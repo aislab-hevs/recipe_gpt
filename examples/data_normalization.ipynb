{
 "cells": [
  {
   "cell_type": "code",
   "execution_count": 27,
   "metadata": {},
   "outputs": [],
   "source": [
    "import pandas as pd\n",
    "import numpy as np\n",
    "import re \n",
    "import sys\n",
    "import os \n",
    "import json\n",
    "from typing import Dict, List, Optional\n",
    "from sklearn.feature_extraction.text import CountVectorizer, TfidfTransformer, HashingVectorizer"
   ]
  },
  {
   "cell_type": "code",
   "execution_count": 28,
   "metadata": {},
   "outputs": [],
   "source": [
    "%load_ext autoreload\n",
    "%autoreload 2\n",
    "sys.path.insert(0, os.path.abspath('..'))\n",
    "from recipe_gpt.preprocessing_utilities.preprocessing_functions import (check_nan_columns, \n",
    "                                                                        extract_nutritional_numerical)"
   ]
  },
  {
   "cell_type": "code",
   "execution_count": 29,
   "metadata": {},
   "outputs": [],
   "source": [
    "path = '/home/victor/Documents/recipe_gpt/output/raw_recipes/df_final_7000_with_ingredients_fixed.csv'\n",
    "df_recipes = pd.read_csv(path, index_col=0, sep='|')"
   ]
  },
  {
   "cell_type": "markdown",
   "metadata": {},
   "source": [
    "## Clear columns "
   ]
  },
  {
   "cell_type": "markdown",
   "metadata": {},
   "source": [
    "#### Fix price "
   ]
  },
  {
   "cell_type": "code",
   "execution_count": 30,
   "metadata": {},
   "outputs": [],
   "source": [
    "fixed_prices = df_recipes['price'].apply(lambda x: extract_nutritional_numerical(x))"
   ]
  },
  {
   "cell_type": "code",
   "execution_count": 52,
   "metadata": {},
   "outputs": [
    {
     "name": "stdout",
     "output_type": "stream",
     "text": [
      "To process: 16\n"
     ]
    }
   ],
   "source": [
    "mask = fixed_prices == 2.5\n",
    "print(f\"To process: {sum(mask)}\")"
   ]
  },
  {
   "cell_type": "code",
   "execution_count": 53,
   "metadata": {},
   "outputs": [
    {
     "data": {
      "text/plain": [
       "395     2.5\n",
       "595     2.5\n",
       "663     2.5\n",
       "1095    2.5\n",
       "2322    2.5\n",
       "2967    2.5\n",
       "5688    2.5\n",
       "6555    2.5\n",
       "6735    2.5\n",
       "6818    2.5\n",
       "6839    2.5\n",
       "6858    2.5\n",
       "6870    2.5\n",
       "6930    2.5\n",
       "6993    2.5\n",
       "6996    2.5\n",
       "Name: price, dtype: object"
      ]
     },
     "execution_count": 53,
     "metadata": {},
     "output_type": "execute_result"
    }
   ],
   "source": [
    "df_recipes.loc[mask, 'price']"
   ]
  },
  {
   "cell_type": "code",
   "execution_count": 50,
   "metadata": {},
   "outputs": [],
   "source": [
    "fixed_prices[mask] = 3.0"
   ]
  },
  {
   "cell_type": "code",
   "execution_count": 51,
   "metadata": {},
   "outputs": [
    {
     "data": {
      "text/plain": [
       "price\n",
       "2.0    6334\n",
       "1.0     601\n",
       "3.0      44\n",
       "2.5      16\n",
       "Name: count, dtype: int64"
      ]
     },
     "execution_count": 51,
     "metadata": {},
     "output_type": "execute_result"
    }
   ],
   "source": [
    "fixed_prices.value_counts()"
   ]
  },
  {
   "cell_type": "markdown",
   "metadata": {},
   "source": [
    "#### Clean titles"
   ]
  },
  {
   "cell_type": "code",
   "execution_count": 22,
   "metadata": {},
   "outputs": [
    {
     "name": "stdout",
     "output_type": "stream",
     "text": [
      "Total recipes with pattern 905 \n"
     ]
    }
   ],
   "source": [
    "mask = df_recipes['title'].str.contains('(', regex=False)\n",
    "print(f\"Total recipes with pattern {sum(mask)} \")"
   ]
  },
  {
   "cell_type": "code",
   "execution_count": 23,
   "metadata": {},
   "outputs": [],
   "source": [
    "df_to_fix = df_recipes.loc[mask, :]"
   ]
  },
  {
   "cell_type": "code",
   "execution_count": 24,
   "metadata": {},
   "outputs": [
    {
     "data": {
      "text/plain": [
       "485                           Aloo Tikki (Potato Patties)\n",
       "521         Vegan Energy Balls (Dates, Nuts, and Coconut)\n",
       "1110                    Vegan Thai Coconut Soup (Tom Kha)\n",
       "1349      Lentil Curry (200 calories/portion, 4 portions)\n",
       "1350    Mediterranean Quinoa Salad (250 calories/porti...\n",
       "                              ...                        \n",
       "6866    Persian Zucchini Stew With Chicken (Khoresh Ka...\n",
       "6881                    Sautéed Tofu (Dau Hu Xao Dau Hao)\n",
       "6899                   (Korean Black Bean Noodles) Recipe\n",
       "6971     Russian Potato Salad Olivier (From South Russia)\n",
       "6976                        Rolled Oats Master Mix (Oamc)\n",
       "Name: title, Length: 905, dtype: object"
      ]
     },
     "execution_count": 24,
     "metadata": {},
     "output_type": "execute_result"
    }
   ],
   "source": [
    "mask_1 = df_to_fix['title']"
   ]
  },
  {
   "cell_type": "code",
   "execution_count": 19,
   "metadata": {},
   "outputs": [
    {
     "name": "stderr",
     "output_type": "stream",
     "text": [
      "/tmp/ipykernel_275380/1177389703.py:1: SettingWithCopyWarning: \n",
      "A value is trying to be set on a copy of a slice from a DataFrame.\n",
      "Try using .loc[row_indexer,col_indexer] = value instead\n",
      "\n",
      "See the caveats in the documentation: https://pandas.pydata.org/pandas-docs/stable/user_guide/indexing.html#returning-a-view-versus-a-copy\n",
      "  df_to_fix['title_fixed'] = df_to_fix['title'].apply(lambda x: x.replace('**', ''))\n"
     ]
    }
   ],
   "source": [
    "df_to_fix['title_fixed'] = df_to_fix['title'].apply(lambda x: x.replace('', ''))"
   ]
  },
  {
   "cell_type": "code",
   "execution_count": 20,
   "metadata": {},
   "outputs": [],
   "source": [
    "df_recipes.loc[mask, 'title'] = df_to_fix['title_fixed']"
   ]
  },
  {
   "cell_type": "code",
   "execution_count": 21,
   "metadata": {},
   "outputs": [],
   "source": [
    "out_path = '/home/victor/Documents/recipe_gpt/output/raw_recipes/df_final_7000_normalized.csv'\n",
    "df_recipes.to_csv(out_path, sep='|', index=True)"
   ]
  }
 ],
 "metadata": {
  "kernelspec": {
   "display_name": "recipe_gpt",
   "language": "python",
   "name": "python3"
  },
  "language_info": {
   "codemirror_mode": {
    "name": "ipython",
    "version": 3
   },
   "file_extension": ".py",
   "mimetype": "text/x-python",
   "name": "python",
   "nbconvert_exporter": "python",
   "pygments_lexer": "ipython3",
   "version": "3.9.19"
  }
 },
 "nbformat": 4,
 "nbformat_minor": 2
}
