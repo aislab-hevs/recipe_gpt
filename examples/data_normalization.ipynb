{
 "cells": [
  {
   "cell_type": "code",
   "execution_count": 33,
   "metadata": {},
   "outputs": [],
   "source": [
    "import pandas as pd\n",
    "import numpy as np\n",
    "import re \n",
    "import sys\n",
    "import os \n",
    "import json\n",
    "import string\n",
    "from functools import partial\n",
    "from typing import Dict, List, Optional\n",
    "from sklearn.feature_extraction.text import CountVectorizer, TfidfTransformer, HashingVectorizer"
   ]
  },
  {
   "cell_type": "code",
   "execution_count": 107,
   "metadata": {},
   "outputs": [],
   "source": [
    "from owlready2 import *"
   ]
  },
  {
   "cell_type": "code",
   "execution_count": 114,
   "metadata": {},
   "outputs": [
    {
     "name": "stdout",
     "output_type": "stream",
     "text": [
      "The autoreload extension is already loaded. To reload it, use:\n",
      "  %reload_ext autoreload\n"
     ]
    }
   ],
   "source": [
    "%load_ext autoreload\n",
    "%autoreload 2\n",
    "sys.path.insert(0, os.path.abspath('..'))\n",
    "from recipe_gpt.preprocessing_utilities.preprocessing_functions import (check_nan_columns, \n",
    "                                                                        extract_nutritional_numerical,\n",
    "                                                                        remove_punctuation,\n",
    "                                                                        get_files,\n",
    "                                                                        load_files, \n",
    "                                                                        replace_by_key)"
   ]
  },
  {
   "cell_type": "code",
   "execution_count": 139,
   "metadata": {},
   "outputs": [],
   "source": [
    "path = '/home/victor/Documents/recipe_gpt/output/raw_recipes/df_final_7000_normalized.csv'\n",
    "df_recipes = pd.read_csv(path, index_col=0, sep='|')"
   ]
  },
  {
   "cell_type": "code",
   "execution_count": 140,
   "metadata": {},
   "outputs": [
    {
     "data": {
      "text/plain": [
       "Index(['title', 'raw_text', 'cultural_restriction', 'calories', 'allergies',\n",
       "       'recipeId', 'ingredients', 'preparation', 'carbs', 'fat', 'fiber',\n",
       "       'protein', 'taste', 'cooking_style', 'meal_type', 'prep_time',\n",
       "       'cuisine', 'price', 'ingredients_list'],\n",
       "      dtype='object')"
      ]
     },
     "execution_count": 140,
     "metadata": {},
     "output_type": "execute_result"
    }
   ],
   "source": [
    "df_recipes.columns"
   ]
  },
  {
   "cell_type": "markdown",
   "metadata": {},
   "source": [
    "## Clear columns "
   ]
  },
  {
   "cell_type": "markdown",
   "metadata": {},
   "source": [
    "#### Fix allergies column "
   ]
  },
  {
   "cell_type": "code",
   "execution_count": 142,
   "metadata": {},
   "outputs": [
    {
     "data": {
      "text/plain": [
       "allergies\n",
       "NotAllergens                                           3500\n",
       "Milk                                                    627\n",
       "contains gluten                                         330\n",
       "contains dairy                                          258\n",
       "Tree nuts                                               220\n",
       "                                                       ... \n",
       "Soy, gluten (in some sauces)                              1\n",
       "Crustacean shellfish, soy, mollusks (oyster sauce).       1\n",
       "Wheat, soy, shellfish.                                    1\n",
       "Gluten, shellfish, soy (in some wrappers)                 1\n",
       "Gluten, soy                                               1\n",
       "Name: count, Length: 360, dtype: int64"
      ]
     },
     "execution_count": 142,
     "metadata": {},
     "output_type": "execute_result"
    }
   ],
   "source": [
    "df_recipes['allergies'].value_counts()"
   ]
  },
  {
   "cell_type": "code",
   "execution_count": 236,
   "metadata": {},
   "outputs": [],
   "source": [
    "dict_allergens = {\n",
    "    'gluten': ['gluten'],\n",
    "    'lactose': ['lactose', 'milk', 'cow', 'cheese'],\n",
    "    'eggs': ['eggs', 'egg'],\n",
    "    'peanuts': ['peanuts'],\n",
    "    'seafood': ['fish', 'seafood'],\n",
    "    'wheat': ['wheat'],\n",
    "    'dairy': ['dairy'],\n",
    "    'tree nuts': ['tree', 'nut', 'nuts', 'trees', 'almonds'],\n",
    "    'soy': ['soy', 'soybeans'],\n",
    "    'shellfish': ['shellfish', 'crustacean', 'shellfish', 'mollusks', 'oyster', 'shrimp', 'crab', 'lobster'],\n",
    "    'NotAllergens': ['notallergens', 'na', 'none', 'free', 'allergenfree', 'nutfree'],\n",
    "    'sesame': ['sesame'],\n",
    "    'garlic': ['garlic'],\n",
    "    'poultry': ['poultry'],\n",
    "    'meat': ['meat', 'beef'], \n",
    "    'pork': ['pork', 'porkbased'], \n",
    "    'legumes': ['legumes', 'chickpea', 'flour', 'olives'],\n",
    "    'corn': ['corn'],\n",
    "    'coconut': ['coconut'],\n",
    "    'nightshade': ['nightshade', 'nightshades'],\n",
    "    'mustard': ['mustard'],\n",
    "    'citrus': ['citrus'],\n",
    "    'spices': ['spices', 'turmeric'],\n",
    "    'black beans': ['black', 'beans']\n",
    "}"
   ]
  },
  {
   "cell_type": "code",
   "execution_count": 237,
   "metadata": {},
   "outputs": [],
   "source": [
    "partial_replace = partial(replace_by_key, replace_dict=dict_allergens)"
   ]
  },
  {
   "cell_type": "code",
   "execution_count": 238,
   "metadata": {},
   "outputs": [],
   "source": [
    "processed_tasted = df_recipes['allergies'].apply(lambda x: partial_replace(x.replace(';', ' ')))"
   ]
  },
  {
   "cell_type": "code",
   "execution_count": 239,
   "metadata": {},
   "outputs": [
    {
     "data": {
      "text/plain": [
       "allergies\n",
       "NotAllergens                  3523\n",
       "lactose                        695\n",
       "gluten                         460\n",
       "tree nuts                      399\n",
       "dairy                          382\n",
       "                              ... \n",
       "gluten, soy, peanuts             1\n",
       "pork, soy, gluten                1\n",
       "sesame, eggs                     1\n",
       "soy, shellfish, eggs             1\n",
       "pork, NotAllergens, gluten       1\n",
       "Name: count, Length: 86, dtype: int64"
      ]
     },
     "execution_count": 239,
     "metadata": {},
     "output_type": "execute_result"
    }
   ],
   "source": [
    "processed_tasted.value_counts()"
   ]
  },
  {
   "cell_type": "code",
   "execution_count": 233,
   "metadata": {},
   "outputs": [
    {
     "data": {
      "text/plain": [
       "5"
      ]
     },
     "execution_count": 233,
     "metadata": {},
     "output_type": "execute_result"
    }
   ],
   "source": [
    "mask = processed_tasted == 'none'\n",
    "sum(mask)"
   ]
  },
  {
   "cell_type": "code",
   "execution_count": 234,
   "metadata": {},
   "outputs": [],
   "source": [
    "df_to_fix = df_recipes.loc[mask, :]"
   ]
  },
  {
   "cell_type": "code",
   "execution_count": 235,
   "metadata": {},
   "outputs": [
    {
     "data": {
      "text/plain": [
       "['contains fruits only',\n",
       " 'Vegan',\n",
       " 'contains black beans (Mexico)',\n",
       " 'contains cilantro (Mexico)',\n",
       " 'contains rice']"
      ]
     },
     "execution_count": 235,
     "metadata": {},
     "output_type": "execute_result"
    }
   ],
   "source": [
    "df_to_fix['allergies'].tolist()"
   ]
  },
  {
   "cell_type": "markdown",
   "metadata": {},
   "source": [
    "#### Cultural restriction "
   ]
  },
  {
   "cell_type": "code",
   "execution_count": 104,
   "metadata": {},
   "outputs": [],
   "source": [
    "unique_values = df_recipes['cultural_restriction'].value_counts()"
   ]
  },
  {
   "cell_type": "code",
   "execution_count": 105,
   "metadata": {},
   "outputs": [
    {
     "data": {
      "text/plain": [
       "cultural_restriction\n",
       "vegetarian                                                                      1598\n",
       "halal                                                                           1594\n",
       "vegan                                                                           1543\n",
       "kosher                                                                          1434\n",
       "NotRestriction                                                                   271\n",
       "Meat-based                                                                       238\n",
       "meat-based                                                                       116\n",
       "Vegetarian                                                                       104\n",
       "grain-based                                                                       22\n",
       "Grain-based                                                                       13\n",
       "Dessert                                                                           13\n",
       "veggie                                                                             6\n",
       "pescatarian                                                                        5\n",
       "seafood-based                                                                      4\n",
       "Pescatarian                                                                        4\n",
       "Seafood-based                                                                      3\n",
       "Kosher                                                                             2\n",
       "Pescetarian                                                                        2\n",
       "This recipe can be classified as \"vegetarian.\"                                     2\n",
       "Seafood                                                                            2\n",
       "Veggie                                                                             2\n",
       "pescetarian                                                                        2\n",
       "The recipe can be classified as \"meat-based\".                                      1\n",
       "This recipe can be classified as \"meat-based.\"                                     1\n",
       "Beverage                                                                           1\n",
       "Fish-based                                                                         1\n",
       "This recipe can be classified as \"meat-based\".                                     1\n",
       "Dairy                                                                              1\n",
       "Alcoholic                                                                          1\n",
       "Non-alcoholic                                                                      1\n",
       "Meat-based.                                                                        1\n",
       "This recipe falls under the category of \"vegetarian\".                              1\n",
       "beverage                                                                           1\n",
       "Non-vegetarian                                                                     1\n",
       "This recipe would fall under the alcohol-based category.                           1\n",
       "fish-based                                                                         1\n",
       "Keto                                                                               1\n",
       "This recipe falls under the category of \"grain-based.\"                             1\n",
       "dessert                                                                            1\n",
       "Seasoning                                                                          1\n",
       "Cocktail                                                                           1\n",
       "The recipe \"Mom T's Bear Claws\" would be classified as a grain-based recipe.       1\n",
       "Name: count, dtype: int64"
      ]
     },
     "execution_count": 105,
     "metadata": {},
     "output_type": "execute_result"
    }
   ],
   "source": [
    "unique_values"
   ]
  },
  {
   "cell_type": "code",
   "execution_count": 106,
   "metadata": {},
   "outputs": [],
   "source": [
    "# Basic categories \n",
    "cultural_restriction_list = ['vegetarian', 'halal', 'vegan', 'kosher', 'NotRestriction',\n",
    "                             'meat-based', 'grain-based', 'dessert', 'pescatarian',\n",
    "                             'seafood-based', 'Beverage', 'Dairy', 'Alcoholic', 'Non-alcoholic',\n",
    "                             'Non-vegetarian', 'alcohol-based', 'keto', 'Seasoning', 'Cocktail']"
   ]
  },
  {
   "cell_type": "code",
   "execution_count": 108,
   "metadata": {},
   "outputs": [],
   "source": [
    "# Create an ontology for cultural restriction\n",
    "onto = get_ontology(\"http://example.org/onto.owl\")"
   ]
  },
  {
   "cell_type": "code",
   "execution_count": 111,
   "metadata": {},
   "outputs": [],
   "source": [
    "with onto:\n",
    "    # Create a basic class for each category\n",
    "    class Vegetarian(Thing):\n",
    "        pass\n",
    "    \n",
    "    class NotRestriction(Thing):\n",
    "        pass\n",
    "    \n",
    "    class Beverage(Thing):\n",
    "        pass\n",
    "    \n",
    "    # Create derivate classes \n",
    "    class Halal(NotRestriction):\n",
    "        pass\n",
    "    \n",
    "    class Kosher(NotRestriction):\n",
    "        pass\n",
    "    \n",
    "    class Keto(NotRestriction):\n",
    "        pass\n",
    "    \n",
    "    class SeaFood(NotRestriction):\n",
    "        pass\n",
    "    \n",
    "    class Pescatarian(NotRestriction):\n",
    "        pass\n",
    "    \n",
    "    class MeatBased(NotRestriction):\n",
    "        pass\n",
    "    \n",
    "    class Vegan(Vegetarian):\n",
    "        pass\n",
    "    \n",
    "    class FruitBased(Vegan):\n",
    "        pass\n",
    "    \n",
    "    class GrainBased(Vegetarian):\n",
    "        pass\n",
    "    \n",
    "    class Diary(Vegetarian):\n",
    "        pass\n",
    "    \n",
    "    class NonAlcoholic(Beverage):\n",
    "        pass\n",
    "    \n",
    "    class Alcoholic(Beverage):\n",
    "        pass\n",
    "    \n",
    "    class Cocktail(Alcoholic):\n",
    "        pass"
   ]
  },
  {
   "cell_type": "code",
   "execution_count": 112,
   "metadata": {},
   "outputs": [],
   "source": [
    "onto_path = '/home/victor/Documents/recipe_gpt/output/ontologies/cultural_restrictions.owl'\n",
    "onto.save(file=onto_path, format='rdfxml')"
   ]
  },
  {
   "cell_type": "code",
   "execution_count": 123,
   "metadata": {},
   "outputs": [],
   "source": [
    "translate_dict = {\n",
    "    'vegetarian': ['vegetarian', 'veggie', 'veggies'], \n",
    "    'halal': ['halal'], \n",
    "    'vegan': ['vegan'], \n",
    "    'kosher': ['kosher'], \n",
    "    'NotRestriction': ['NotRestriction', 'non-vegetarian', 'notrestriction'],\n",
    "    'meat-based': ['meat-based', 'meat'], \n",
    "    'grain-based': ['grain-based', 'grain'], \n",
    "    'dessert': ['dessert'], \n",
    "    'pescatarian': ['pescatarian', 'pescetarian', 'fish'],\n",
    "    'seafood-based': ['seafood-based', 'fish', 'seafood'], \n",
    "    'beverage': ['beverage'], \n",
    "    'dairy': ['dairy'], \n",
    "    'alcohol-based': ['alcoholic', 'alcohol-based', 'cocktail', 'alcohol'], \n",
    "    'non-alcoholic': ['non-alcoholic'],\n",
    "    'keto': []\n",
    "}"
   ]
  },
  {
   "cell_type": "code",
   "execution_count": 124,
   "metadata": {},
   "outputs": [],
   "source": [
    "partial_replace = partial(replace_by_key, replace_dict=translate_dict)"
   ]
  },
  {
   "cell_type": "code",
   "execution_count": 125,
   "metadata": {},
   "outputs": [],
   "source": [
    "processed_tasted = df_recipes['cultural_restriction'].apply(lambda x: partial_replace(x))"
   ]
  },
  {
   "cell_type": "code",
   "execution_count": 136,
   "metadata": {},
   "outputs": [
    {
     "data": {
      "text/plain": [
       "cultural_restriction\n",
       "vegetarian                    1714\n",
       "halal                         1594\n",
       "vegan                         1543\n",
       "kosher                        1436\n",
       "meat-based                     358\n",
       "NotRestriction                 272\n",
       "grain-based                     37\n",
       "dessert                         14\n",
       "pescatarian                     13\n",
       "seafood-based                    9\n",
       "alcohol-based                    4\n",
       "beverage                         2\n",
       "pescatarian, seafood-based       2\n",
       "dairy                            1\n",
       "keto                             1\n",
       "Name: count, dtype: int64"
      ]
     },
     "execution_count": 136,
     "metadata": {},
     "output_type": "execute_result"
    }
   ],
   "source": [
    "processed_tasted.value_counts()"
   ]
  },
  {
   "cell_type": "code",
   "execution_count": 127,
   "metadata": {},
   "outputs": [
    {
     "data": {
      "text/plain": [
       "1"
      ]
     },
     "execution_count": 127,
     "metadata": {},
     "output_type": "execute_result"
    }
   ],
   "source": [
    "mask = processed_tasted == 'none'\n",
    "sum(mask)"
   ]
  },
  {
   "cell_type": "code",
   "execution_count": 135,
   "metadata": {},
   "outputs": [],
   "source": [
    "processed_tasted[mask] = 'NotRestriction'"
   ]
  },
  {
   "cell_type": "code",
   "execution_count": 137,
   "metadata": {},
   "outputs": [],
   "source": [
    "df_recipes['cultural_restriction'] = processed_tasted"
   ]
  },
  {
   "cell_type": "code",
   "execution_count": 134,
   "metadata": {},
   "outputs": [
    {
     "data": {
      "text/plain": [
       "6932    Seasoning\n",
       "Name: cultural_restriction, dtype: object"
      ]
     },
     "execution_count": 134,
     "metadata": {},
     "output_type": "execute_result"
    }
   ],
   "source": [
    "df_recipes.loc[mask, 'cultural_restriction'] = 'NotRestriction'"
   ]
  },
  {
   "cell_type": "code",
   "execution_count": 128,
   "metadata": {},
   "outputs": [],
   "source": [
    "df_to_fix = df_recipes.loc[mask, :]"
   ]
  },
  {
   "cell_type": "code",
   "execution_count": 133,
   "metadata": {},
   "outputs": [
    {
     "data": {
      "text/plain": [
       "['Vanilla Salt']"
      ]
     },
     "execution_count": 133,
     "metadata": {},
     "output_type": "execute_result"
    }
   ],
   "source": [
    "df_to_fix['title'].tolist()"
   ]
  },
  {
   "cell_type": "markdown",
   "metadata": {},
   "source": [
    "#### calories, carbs, fat, fiber, protein"
   ]
  },
  {
   "cell_type": "code",
   "execution_count": 100,
   "metadata": {},
   "outputs": [
    {
     "data": {
      "text/plain": [
       "0         70.0\n",
       "1        300.0\n",
       "2        400.0\n",
       "3        550.0\n",
       "4        600.0\n",
       "         ...  \n",
       "6995     922.0\n",
       "6996     894.0\n",
       "6997     319.0\n",
       "6998    3813.0\n",
       "6999    1171.0\n",
       "Name: calories, Length: 7000, dtype: float64"
      ]
     },
     "execution_count": 100,
     "metadata": {},
     "output_type": "execute_result"
    }
   ],
   "source": [
    "df_recipes['calories']"
   ]
  },
  {
   "cell_type": "markdown",
   "metadata": {},
   "source": [
    "#### Clear taste"
   ]
  },
  {
   "cell_type": "code",
   "execution_count": 18,
   "metadata": {},
   "outputs": [],
   "source": [
    "basic_profiles = ['sweet', 'salty', 'sour', 'bitter', 'umami']"
   ]
  },
  {
   "cell_type": "code",
   "execution_count": 20,
   "metadata": {},
   "outputs": [],
   "source": [
    "dict_tastes = dict(zip(basic_profiles+['other'], [[], [], [], [], [], [], []]))"
   ]
  },
  {
   "cell_type": "code",
   "execution_count": 64,
   "metadata": {},
   "outputs": [],
   "source": [
    "dict_tastes['salty'] = ['salt', 'salty', 'savory']\n",
    "dict_tastes['sweet'] = []\n",
    "dict_tastes['sour'] = ['citrus-y', 'citrus']\n"
   ]
  },
  {
   "cell_type": "code",
   "execution_count": 22,
   "metadata": {},
   "outputs": [],
   "source": [
    "values = df_recipes['taste'].value_counts()"
   ]
  },
  {
   "cell_type": "code",
   "execution_count": 115,
   "metadata": {},
   "outputs": [
    {
     "data": {
      "text/plain": [
       "'umami, sweet, sour, salty'"
      ]
     },
     "execution_count": 115,
     "metadata": {},
     "output_type": "execute_result"
    }
   ],
   "source": [
    "# test replace function \n",
    "replace_by_key('sweet  in coconut chutney   salty  in idli and sambar   sour  in sambar with tamarind extract   umami  in sambar with lentils and vegetables', dict_tastes)"
   ]
  },
  {
   "cell_type": "code",
   "execution_count": 66,
   "metadata": {},
   "outputs": [],
   "source": [
    "# partial to apply \n",
    "partial_replace = partial(replace_by_key, replace_dict=dict_tastes)"
   ]
  },
  {
   "cell_type": "code",
   "execution_count": 67,
   "metadata": {},
   "outputs": [],
   "source": [
    "processed_tasted = df_recipes['taste'].apply(lambda x: partial_replace(x))"
   ]
  },
  {
   "cell_type": "code",
   "execution_count": 90,
   "metadata": {},
   "outputs": [
    {
     "data": {
      "text/plain": [
       "taste\n",
       "salty                                4082\n",
       "sweet                                1592\n",
       "sour                                  859\n",
       "umami                                 220\n",
       "bitter                                 72\n",
       "umami, salty                           61\n",
       "sour, salty                             4\n",
       "sweet, salty                            2\n",
       "umami, sour, sweet, bitter, salty       2\n",
       "bitter, umami, salty                    1\n",
       "umami, sweet, sour, salty               1\n",
       "bitter, sweet, salty                    1\n",
       "sweet, umami                            1\n",
       "umami, sour                             1\n",
       "sweet, sour                             1\n",
       "umami, sour, salty                      1\n",
       "Name: count, dtype: int64"
      ]
     },
     "execution_count": 90,
     "metadata": {},
     "output_type": "execute_result"
    }
   ],
   "source": [
    "processed_tasted.value_counts()"
   ]
  },
  {
   "cell_type": "code",
   "execution_count": 92,
   "metadata": {},
   "outputs": [],
   "source": [
    "df_recipes['taste'] =  processed_tasted"
   ]
  },
  {
   "cell_type": "code",
   "execution_count": 69,
   "metadata": {},
   "outputs": [
    {
     "data": {
      "text/plain": [
       "99"
      ]
     },
     "execution_count": 69,
     "metadata": {},
     "output_type": "execute_result"
    }
   ],
   "source": [
    "mask = processed_tasted == 'none'\n",
    "sum(mask)"
   ]
  },
  {
   "cell_type": "code",
   "execution_count": 70,
   "metadata": {},
   "outputs": [],
   "source": [
    "df_to_fix = df_recipes.loc[mask, :]"
   ]
  },
  {
   "cell_type": "code",
   "execution_count": 73,
   "metadata": {},
   "outputs": [],
   "source": [
    "# save to process recipes \n",
    "output_path = '/home/victor/Documents/recipe_gpt/output/raw_recipes'\n",
    "df_to_fix.to_csv(os.path.join(output_path, 'df_to_fix_7000_with_ingredients_fixed.csv'), index=True, sep='|')"
   ]
  },
  {
   "cell_type": "code",
   "execution_count": 77,
   "metadata": {},
   "outputs": [
    {
     "name": "stdout",
     "output_type": "stream",
     "text": [
      "Found files number: 1\n"
     ]
    }
   ],
   "source": [
    "file_pattern = '/home/victor/Documents/recipe_gpt/output/raw_output/fixing_taste*.json'\n",
    "file_list = get_files(file_pattern)"
   ]
  },
  {
   "cell_type": "code",
   "execution_count": 79,
   "metadata": {},
   "outputs": [],
   "source": [
    "answer_dict = load_files(file_list)"
   ]
  },
  {
   "cell_type": "code",
   "execution_count": 81,
   "metadata": {},
   "outputs": [],
   "source": [
    "df_calories = pd.DataFrame.from_dict(answer_dict, \n",
    "                                     orient='index',\n",
    "                                     columns=['raw_text']\n",
    ")"
   ]
  },
  {
   "cell_type": "code",
   "execution_count": 85,
   "metadata": {},
   "outputs": [],
   "source": [
    "fix_patch = df_calories['raw_text'].apply(lambda x: partial_replace(x))"
   ]
  },
  {
   "cell_type": "code",
   "execution_count": 89,
   "metadata": {},
   "outputs": [],
   "source": [
    "processed_tasted[mask] = fix_patch"
   ]
  },
  {
   "cell_type": "code",
   "execution_count": 80,
   "metadata": {},
   "outputs": [
    {
     "data": {
      "text/plain": [
       "53      none\n",
       "90      none\n",
       "111     none\n",
       "453     none\n",
       "559     none\n",
       "        ... \n",
       "6706    none\n",
       "6801    none\n",
       "6889    none\n",
       "6907    none\n",
       "6955    none\n",
       "Name: taste, Length: 99, dtype: object"
      ]
     },
     "execution_count": 80,
     "metadata": {},
     "output_type": "execute_result"
    }
   ],
   "source": [
    "processed_tasted[mask]"
   ]
  },
  {
   "cell_type": "code",
   "execution_count": null,
   "metadata": {},
   "outputs": [],
   "source": []
  },
  {
   "cell_type": "code",
   "execution_count": 72,
   "metadata": {},
   "outputs": [
    {
     "data": {
      "text/plain": [
       "['Vegan Breakfast Croissant',\n",
       " 'Vegan Egg McMuffin',\n",
       " 'Vegan Breakfast Rice Paper Rolls',\n",
       " 'Instant Pot Vegan Yogurt',\n",
       " 'Vegan Buffalo Cauliflower Tacos',\n",
       " 'Avocado Toast ',\n",
       " 'Spicy Thai Coconut Soup',\n",
       " 'Thai Red Curry with Tofu and Vegetables',\n",
       " 'Vegan Cauliflower Shawarma Wraps',\n",
       " 'Vegan Roasted Cauliflower Tacos',\n",
       " 'Tofu Tikka Masala',\n",
       " 'Vegan Mapo Tofu',\n",
       " 'Lentil Salad with Avocado Dressing',\n",
       " 'Irish Soda Bread',\n",
       " 'Hard-Boiled Eggs',\n",
       " 'Vegetable Frittata Muffins',\n",
       " 'Roasted butternut squash fries with spicy mayo',\n",
       " 'Cheese and Crackers',\n",
       " 'Caprese Pasta',\n",
       " 'Roasted cauliflower and chickpea tacos',\n",
       " 'Sweet potato and chickpea curry',\n",
       " 'Mexican Stuffed Bell Peppers',\n",
       " 'Thai Red Curry with Vegetables',\n",
       " 'Mediterranean Roasted Vegetable Quiche',\n",
       " 'Pancake cereal',\n",
       " 'Indian poha cutlet',\n",
       " 'Venezuelan arepas with cheese and avocado',\n",
       " 'Vegetable and Cheese Muffin Frittatas',\n",
       " 'Lebanese Kaak (Sesame Bread Rings)',\n",
       " 'Moroccan Baghrir (Thousand',\n",
       " 'Turkish Gözleme',\n",
       " 'Moroccan Semolina Pancakes (Baghrir)',\n",
       " 'Moroccan Chickpea Flatbread',\n",
       " 'Turkish Style Fried Dough',\n",
       " 'Ham and Cheese Pinwheels',\n",
       " 'Vietnamese Fresh Spring Rolls',\n",
       " 'Spiced Roasted Almonds',\n",
       " 'Turkish Pide Bread',\n",
       " 'Spicy Roasted Chickpea Salad',\n",
       " 'Indian Chicken Tikka Masala',\n",
       " 'Indian Aloo Gobi',\n",
       " 'Mexican Chicken Quesadilla',\n",
       " 'Tandoori Chicken Skewers',\n",
       " 'Chicken Tacos',\n",
       " 'Spanish Tortilla (Potato Omelette)',\n",
       " 'Lebanese Kafta Kebabs',\n",
       " 'Lentil and chickpea curry with naan bread',\n",
       " 'Lemon Herb Roasted Turkey Breast',\n",
       " 'Vegetable Curry with Roti',\n",
       " 'Beef tacos with avocado salsa and cilantro rice (600 calories per portion, 2 portions, contains gluten, origin',\n",
       " 'Moroccan spiced roasted chicken with couscous (700 calories per portion, 2 portions, origin',\n",
       " 'Spanish Tortilla Española',\n",
       " \"Lebanese Mana'eesh\",\n",
       " 'English Crumpets',\n",
       " 'Stuffed Bell Peppers with Quinoa and Chickpeas',\n",
       " 'Assorted sushi rolls (vegetable, California, and spicy tuna)',\n",
       " 'Veggie Spring Rolls with Spicy Peanut Sauce (280 kcal per portion, 2 portion)',\n",
       " 'Mini Spinach and Cheese Hand Pies',\n",
       " 'Stuffed Grape Tomatoes with Cream Cheese',\n",
       " 'Rice paper rolls with shrimp and vegetables',\n",
       " 'Indian Masoor Dal (300 calories per portion, serves 6, contains legumes, origin',\n",
       " 'Baked Salmon with roasted vegetables',\n",
       " 'Roasted Eggplant Wrap',\n",
       " 'Grilled shrimp skewers with quinoa and roasted vegetables – 450 calories per portion, 2 portions, contains shellfish',\n",
       " 'Moroccan Spiced Vegetable Tagine',\n",
       " 'Vegan Breakfast Sausage and Biscuits',\n",
       " 'Vegan Spinach Dip with Pita Chips',\n",
       " 'Guacamole and Veggie Sticks',\n",
       " 'Chickpea Curry with Rice',\n",
       " 'Vegan Thai Red Curry Noodle Soup',\n",
       " 'Tofu Stir Fry',\n",
       " 'Vegan Bolognese',\n",
       " 'Baba ganoush with pita bread',\n",
       " 'Veggie Kabobs',\n",
       " 'French Croissant',\n",
       " 'Congee',\n",
       " 'Bell pepper and cream cheese stuffed mushrooms',\n",
       " 'Miso Soup with Tofu',\n",
       " 'Moroccan Lamb Kefta',\n",
       " 'BBQ pulled chicken sandwiches',\n",
       " 'Chicken Tikka Masala with Naan Bread',\n",
       " 'Italian Cannoli',\n",
       " 'Oatmeal with Blueberries and Almonds',\n",
       " 'Grilled Eggplant Rolls',\n",
       " 'Sushi Bowl',\n",
       " 'Teriyaki Chicken Stir',\n",
       " ' **Congee (Breakfast)**',\n",
       " ' Arepas (Venezuela)',\n",
       " ' Empanadas (Various South American Countries)',\n",
       " ' Pan de Coco (Honduras)',\n",
       " ' Pollo Guisado (Guatemala) - Lunch/Dinner',\n",
       " ' Recipe: Argentinean Empanadas',\n",
       " ' Tacu Tacu (Peruvian Mixed Rice and Beans)',\n",
       " 'Asparagus And Morel Risotto',\n",
       " 'Almost-Instant Tomato Soup',\n",
       " 'Curried Lentil And Squash Soup',\n",
       " 'Quick Collards',\n",
       " 'Healthy And Delicious: Pasta E Ceci Recipe',\n",
       " 'Blueberry `N Spice Bread Pudding Recipe']"
      ]
     },
     "execution_count": 72,
     "metadata": {},
     "output_type": "execute_result"
    }
   ],
   "source": [
    "df_to_fix['title'].tolist()"
   ]
  },
  {
   "cell_type": "code",
   "execution_count": 27,
   "metadata": {},
   "outputs": [],
   "source": [
    "for val in list(values.index):\n",
    "    lower_val = val.lower()\n",
    "    lower_val = remove_punctuation(lower_val, list(string.punctuation))\n",
    "    splitted = val.split(' ')\n",
    "    for word in splitted:\n",
    "        if word in dict_tastes.keys():\n",
    "            dict_tastes[word].append(lower_val)\n",
    "        else:\n",
    "            dict_tastes['other'] = [lower_val]"
   ]
  },
  {
   "cell_type": "code",
   "execution_count": 31,
   "metadata": {},
   "outputs": [
    {
     "data": {
      "text/plain": [
       "['salty',\n",
       " 'salty  in the red lentil dal \\nsalty  in the naan bread',\n",
       " 'grilled vegetable and halloumi skewers recipe  the key taste profile is \\n  salty',\n",
       " 'the key taste profile for this recipe is both salty and umami',\n",
       " 'the key taste profile of this recipe is  salty',\n",
       " 'key taste profile  salty',\n",
       " 'sweet  in coconut chutney   salty  in idli and sambar   sour  in sambar with tamarind extract   umami  in sambar with lentils and vegetables',\n",
       " 'key taste profile for the recipe  salty',\n",
       " 'bitter  sweet  salty',\n",
       " 'the key taste profile in this recipe is  salty']"
      ]
     },
     "execution_count": 31,
     "metadata": {},
     "output_type": "execute_result"
    }
   ],
   "source": [
    "dict_tastes['salty']"
   ]
  },
  {
   "cell_type": "code",
   "execution_count": null,
   "metadata": {},
   "outputs": [],
   "source": []
  },
  {
   "cell_type": "markdown",
   "metadata": {},
   "source": [
    "#### Clear cooking style "
   ]
  },
  {
   "cell_type": "code",
   "execution_count": 6,
   "metadata": {},
   "outputs": [],
   "source": [
    "cooking_style = df_recipes['cooking_style'].value_counts()"
   ]
  },
  {
   "cell_type": "code",
   "execution_count": 7,
   "metadata": {},
   "outputs": [],
   "source": [
    "import string"
   ]
  },
  {
   "cell_type": "code",
   "execution_count": 8,
   "metadata": {},
   "outputs": [],
   "source": []
  },
  {
   "cell_type": "code",
   "execution_count": 9,
   "metadata": {},
   "outputs": [],
   "source": [
    "dict_cooking_style = {}\n",
    "flag = False\n",
    "for cs in cooking_style.index:\n",
    "    flag = False\n",
    "    lower = cs.lower()\n",
    "    without_punt = remove_punctuation(lower, list(string.punctuation))\n",
    "    splitted = without_punt.split(' ')\n",
    "    for word in splitted:\n",
    "        if word in dict_cooking_style.keys():\n",
    "            dict_cooking_style[word].append(cs)\n",
    "            flag = True\n",
    "            break\n",
    "    if not flag:\n",
    "        dict_cooking_style[without_punt] = []\n",
    "        flag = False"
   ]
  },
  {
   "cell_type": "code",
   "execution_count": 10,
   "metadata": {},
   "outputs": [],
   "source": [
    "vals = set(dict_cooking_style.keys())"
   ]
  },
  {
   "cell_type": "code",
   "execution_count": 12,
   "metadata": {},
   "outputs": [],
   "source": [
    "second_check = []\n",
    "for v in vals:\n",
    "    if len(v.split(' ')) > 3:\n",
    "        second_check.append(v)"
   ]
  },
  {
   "cell_type": "code",
   "execution_count": 14,
   "metadata": {},
   "outputs": [
    {
     "data": {
      "text/plain": [
       "60"
      ]
     },
     "execution_count": 14,
     "metadata": {},
     "output_type": "execute_result"
    }
   ],
   "source": [
    "len(second_check)"
   ]
  },
  {
   "cell_type": "code",
   "execution_count": 15,
   "metadata": {},
   "outputs": [
    {
     "data": {
      "text/plain": [
       "['there is no cooking involved in this recipe',\n",
       " '1  sauteed\\n2  blend\\n3  slow cooked\\n4  serve',\n",
       " 'no cooking style  no cooking required',\n",
       " 'no cooking style specified  this recipe does not require cooking',\n",
       " 'no cooking style is indicated in the recipe  it is a no cook recipe',\n",
       " 'no cooking is involved',\n",
       " 'there is no cooking style indicated in this recipe',\n",
       " 'no cooking required for this recipe',\n",
       " 'the cooking style of this recipe is not applicable',\n",
       " 'pulse oats  combine  stir  roll  refrigerate',\n",
       " 'this recipe is a compilation of different dishes and does not have a specific cooking style  some components may involve sautéing or roasting  but overall  it does not fall into a single cooking style',\n",
       " 'the cooking style of this recipe is not applicable as it does not involve any cooking',\n",
       " 'no cooking style required',\n",
       " 'no cooking style mentioned for this recipe',\n",
       " 'no cooking style  no bake',\n",
       " 'not applicable  this recipe does not involve any cooking',\n",
       " 'no cooking style  as this recipe does not involve any cooking',\n",
       " 'this recipe does not involve any cooking  so the cooking style is  no cooking required',\n",
       " 'no cooking style indicated  as this is a no bake recipe',\n",
       " 'no cooking style is indicated in this recipe as it involves no heat or cooking process',\n",
       " 'no cooking style specified',\n",
       " 'no cooking style is indicated',\n",
       " 'no cooking style is indicated in this recipe  it is a no cook recipe',\n",
       " 'no cooking style  no cook',\n",
       " 'no cooking style  this is a no bake recipe',\n",
       " 'no cooking style is indicated for this recipe  as it does not require any cooking',\n",
       " 'no cooking style indicated   no cooking',\n",
       " 'no cooking style is specified in the provided recipe',\n",
       " 'no cooking style is indicated for this recipe',\n",
       " 'no cook or no bake',\n",
       " 'the cooking style of this recipe is not applicable  n a  as it does not involve any cooking',\n",
       " 'no cooking style required for this recipe as it is a no cook recipe',\n",
       " 'no cooking style  as this is a no bake recipe',\n",
       " 'this recipe is not cooked',\n",
       " 'no cooking style indicated',\n",
       " 'no cooking style required for this recipe as it is a no bake recipe',\n",
       " 'the cooking style of this recipe is not specified',\n",
       " 'no cooking style  since no heat is applied to the ingredients',\n",
       " 'no cooking style is indicated in this recipe',\n",
       " 'no cooking style is mentioned in the recipe provided',\n",
       " 'no cooking style is indicated for this recipe as it is a no cook recipe',\n",
       " 'this recipe is a  no cook  recipe',\n",
       " 'no cooking is involved in this recipe  it is a no bake recipe',\n",
       " 'no cooking style is specified in this recipe',\n",
       " 'no cooking style mentioned',\n",
       " 'no cooking is involved in this recipe',\n",
       " 'no cooking style needed for this recipe',\n",
       " 'no cooking style needed  this recipe does not involve any cooking',\n",
       " 'no cooking style is indicated in this recipe as it is a no cook recipe',\n",
       " 'no cooking style  this recipe does not require any cooking',\n",
       " 'no cooking is required for this recipe',\n",
       " 'as this recipe does not involve cooking or the use of heat  the cooking style for this recipe would be  no cook',\n",
       " 'no cooking style is indicated in the given recipe',\n",
       " 'no cooking style required as this recipe is a no cook recipe',\n",
       " 'no cooking style indicated  no heat used',\n",
       " '1  idli  steamed\\n2  coconut chutney  blended\\n3  sambar  slow cooked',\n",
       " 'no cooking style is indicated for this recipe as it does not involve any cooking',\n",
       " 'no cooking style needed for this recipe as it s a no bake recipe',\n",
       " 'no cooking style indicated  these are ingredients for a dessert recipe',\n",
       " 'no cooking style needed as this is a no cook recipe']"
      ]
     },
     "execution_count": 15,
     "metadata": {},
     "output_type": "execute_result"
    }
   ],
   "source": [
    "second_check"
   ]
  },
  {
   "cell_type": "markdown",
   "metadata": {},
   "source": [
    "#### Fix Prep time"
   ]
  },
  {
   "cell_type": "code",
   "execution_count": 97,
   "metadata": {},
   "outputs": [
    {
     "name": "stdout",
     "output_type": "stream",
     "text": [
      "<class 'pandas.core.series.Series'>\n",
      "Index: 7000 entries, 0 to 6999\n",
      "Series name: prep_time\n",
      "Non-Null Count  Dtype  \n",
      "--------------  -----  \n",
      "7000 non-null   float64\n",
      "dtypes: float64(1)\n",
      "memory usage: 109.4 KB\n"
     ]
    }
   ],
   "source": [
    "df_recipes['prep_time'].info()"
   ]
  },
  {
   "cell_type": "markdown",
   "metadata": {},
   "source": [
    "#### Fix cuisine"
   ]
  },
  {
   "cell_type": "code",
   "execution_count": 63,
   "metadata": {},
   "outputs": [],
   "source": [
    "values_cuisine = df_recipes['cuisine'].value_counts()"
   ]
  },
  {
   "cell_type": "code",
   "execution_count": 66,
   "metadata": {},
   "outputs": [],
   "source": [
    "mask = values_cuisine < 10"
   ]
  },
  {
   "cell_type": "code",
   "execution_count": 69,
   "metadata": {},
   "outputs": [],
   "source": [
    "list_cuisines = list(values_cuisine.index)"
   ]
  },
  {
   "cell_type": "code",
   "execution_count": 70,
   "metadata": {},
   "outputs": [],
   "source": [
    "cuisine_dict = {}\n",
    "flag = False\n",
    "for cuisine in list_cuisines:\n",
    "    flag = False\n",
    "    splitted = cuisine.split(' ')\n",
    "    for word in splitted:\n",
    "        if word in cuisine_dict.keys():\n",
    "            flag = True\n",
    "    if not flag:\n",
    "        cuisine_dict[cuisine] = 0\n",
    "        flag = False"
   ]
  },
  {
   "cell_type": "code",
   "execution_count": 73,
   "metadata": {},
   "outputs": [],
   "source": [
    "unique_cuisines = set(cuisine_dict.keys())"
   ]
  },
  {
   "cell_type": "code",
   "execution_count": 91,
   "metadata": {},
   "outputs": [],
   "source": [
    "# check long phrases \n",
    "second_check = []\n",
    "for cuisine in unique_cuisines:\n",
    "    splitted = cuisine.split(' ')\n",
    "    if len(splitted) > 2:\n",
    "        second_check.append(cuisine)\n",
    "        break\n"
   ]
  },
  {
   "cell_type": "code",
   "execution_count": 92,
   "metadata": {},
   "outputs": [
    {
     "data": {
      "text/plain": [
       "1"
      ]
     },
     "execution_count": 92,
     "metadata": {},
     "output_type": "execute_result"
    }
   ],
   "source": [
    "len(second_check)"
   ]
  },
  {
   "cell_type": "code",
   "execution_count": 90,
   "metadata": {},
   "outputs": [
    {
     "data": {
      "text/plain": [
       "['The cuisine type of this recipe is \"fusion.\"']"
      ]
     },
     "execution_count": 90,
     "metadata": {},
     "output_type": "execute_result"
    }
   ],
   "source": [
    "second_check"
   ]
  },
  {
   "cell_type": "code",
   "execution_count": 87,
   "metadata": {},
   "outputs": [
    {
     "data": {
      "text/plain": [
       "['The cuisine type of this recipe is \"fusion.\"',\n",
       " 'Fried Plantains.',\n",
       " 'Mocktail',\n",
       " 'Tex-Mex',\n",
       " 'Bangladeshi',\n",
       " 'The cuisine type of this recipe is: Indian.',\n",
       " 'Baking.',\n",
       " 'The cuisine type of this recipe is Asian.',\n",
       " 'The cuisine type of the recipe \"Spicy Lentil Soup\" is \"Global.\"',\n",
       " 'The cuisine type of the recipe is \"vegetarian.\"',\n",
       " 'The cuisine type of the recipe is \"vegetarian\"',\n",
       " 'No specific cuisine type indicated.',\n",
       " 'Argentinean',\n",
       " 'The cuisine type of the Lentil and Vegetable Stew recipe is \"vegetarian\"',\n",
       " 'Biscuits',\n",
       " 'Quiche',\n",
       " 'vegetarian',\n",
       " 'donut',\n",
       " 'Steamed',\n",
       " 'The cuisine type of the \"Veggie and Hummus Wrap\" recipe is \"Vegetarian\"',\n",
       " 'Malaysian',\n",
       " 'Brazilian.',\n",
       " 'Unclear',\n",
       " 'Parfait',\n",
       " 'Paraguayan Chipa - Paraguayan',\n",
       " 'This recipe does not specify a cuisine type.',\n",
       " 'Tropical',\n",
       " 'Fritters: Vegetable',\n",
       " 'Cuisine type: Contemporary',\n",
       " 'Israeli',\n",
       " 'The cuisine type for this recipe is \"Mediterranean.\"',\n",
       " 'The cuisine type of the recipe is Belgian.',\n",
       " 'Irish',\n",
       " 'Argentine',\n",
       " 'Gluten: Gluten\\nCuisine: Undefined',\n",
       " 'Turkish',\n",
       " 'Hawaiian',\n",
       " 'Comfort',\n",
       " 'The cuisine type of this recipe is \"seafood.\"',\n",
       " 'The cuisine type of this recipe is \"fusion\".',\n",
       " 'chili',\n",
       " 'Teriyaki',\n",
       " 'Tunisian',\n",
       " 'Smoothie.',\n",
       " 'dessert',\n",
       " 'Smoked Salmon Bagels',\n",
       " 'The cuisine type of this recipe is \"Tex-Mex\"',\n",
       " 'vegan',\n",
       " 'Carrot Soup: Cuisine type is **Vegetarian**.',\n",
       " 'Spiced Roasted Almonds - Middle Eastern',\n",
       " 'Cuisine Type: El Salvadoran\\nPreparation: Assemble',\n",
       " 'Bilingual',\n",
       " 'Not enough information.',\n",
       " 'The cuisine type of this recipe is likely \"American\"',\n",
       " 'The cuisine type of this recipe is not specified.',\n",
       " 'Fried Plantains',\n",
       " 'The cuisine type of the Veggie Curry recipe is: Indian.',\n",
       " 'The cuisine type of the recipe is \"American.\"',\n",
       " 'Middle Eastern.',\n",
       " 'Chicken',\n",
       " 'Assorted mini muffins (blueberry, chocolate chip, and banana) is of the cuisine type: Assorted.',\n",
       " 'Drink',\n",
       " 'The cuisine type of this recipe is \"Asian.\"',\n",
       " 'Roasted Brussels Sprouts: Side Dish',\n",
       " 'Greek',\n",
       " 'Cocktail',\n",
       " 'Detox',\n",
       " 'Cuisine type: Chilean\\nPreparation: Stew',\n",
       " 'Ethiopian',\n",
       " 'Snack.',\n",
       " 'Guatemalan',\n",
       " 'Dutch',\n",
       " 'The cuisine type of this recipe is French.',\n",
       " 'Paraguayan',\n",
       " 'The cuisine type for this recipe would be Tex-Mex.',\n",
       " 'Appetizer',\n",
       " 'Indonesian.',\n",
       " 'Southern',\n",
       " 'Gluten-free',\n",
       " 'The cuisine type of this recipe is: Contemporary.',\n",
       " 'Mujadara is typically Middle Eastern cuisine.',\n",
       " 'The cuisine type of the recipe is \"American\"',\n",
       " 'Peruvian.',\n",
       " 'Southwest.',\n",
       " 'Veggie Egg Muffins - Veggie',\n",
       " 'cuisine: Brazilian\\npreparation: marinade, grill, toast',\n",
       " 'The cuisine type of this recipe is not clear from the given ingredients.',\n",
       " 'Moroccan',\n",
       " 'The cuisine type of this recipe is \"Vegetarian\".',\n",
       " 'quiche',\n",
       " 'Potato salad',\n",
       " 'Asian',\n",
       " 'Stir-fried',\n",
       " 'Bakery',\n",
       " 'Zimbabwean',\n",
       " 'The cuisine type of this recipe is Indian.',\n",
       " 'Szechuan',\n",
       " 'Wrap',\n",
       " 'appetizer',\n",
       " 'Asian.',\n",
       " 'quiches',\n",
       " 'No - Granola',\n",
       " 'Latin-American',\n",
       " 'Colombian',\n",
       " 'This recipe is categorized as \"American\".',\n",
       " 'The cuisine type of this recipe is: None (generic)',\n",
       " 'Fusion',\n",
       " 'The cuisine type of this recipe is \"Italian.\"',\n",
       " 'European',\n",
       " 'This recipe is for Cinnamon Rolls.',\n",
       " 'Avocado toast',\n",
       " 'Chinese.',\n",
       " 'Buffalo',\n",
       " 'Hungarian.',\n",
       " 'Cuban',\n",
       " 'Steam',\n",
       " 'The cuisine type of the recipe is: French.',\n",
       " 'The cuisine type of the recipe is \"Italian\".',\n",
       " 'Unknown.',\n",
       " 'apple',\n",
       " 'The cuisine type of the recipe is \"Vegetarian\".',\n",
       " 'Fruit',\n",
       " 'Vegan.',\n",
       " 'Arabic',\n",
       " 'Brussels Sprouts\\nRoasted',\n",
       " 'Christmas',\n",
       " 'Chocolate.',\n",
       " 'The cuisine type of this recipe could be considered as \"American\".',\n",
       " 'Mixed',\n",
       " 'Pumpkin',\n",
       " 'Smoked Trout Recipe',\n",
       " 'Smoothie',\n",
       " 'brunch',\n",
       " 'Egyptian',\n",
       " 'Chocolate',\n",
       " 'British',\n",
       " 'Mediterranean',\n",
       " 'Salvadoran',\n",
       " 'The cuisine type of the recipe \"Quinoa Stuffed Zucchini\" would be considered \"healthy\" or \"vegetarian\".',\n",
       " 'Frying',\n",
       " 'The cuisine type of this recipe is Japanese.',\n",
       " 'Breakfast.',\n",
       " 'Appetizer.',\n",
       " 'Turkish.',\n",
       " 'Oat Bars - CUESINE: \\nSnacks',\n",
       " 'Barbecue',\n",
       " 'Panamanian',\n",
       " 'Salvadoran. Fried.',\n",
       " 'Herbal',\n",
       " 'Cuisine: -\\nName: Mini Bagel Chips with Smoked Salmon \\nIngredients: mini bagels, smoked salmon, cream cheese, fresh dill, lemon zest',\n",
       " 'Smoothies',\n",
       " 'Sicilian',\n",
       " 'Preserving',\n",
       " 'hamburger',\n",
       " 'The cuisine type of this recipe is not specified in the given information.',\n",
       " 'Ukrainian',\n",
       " 'The cuisine type of this recipe is \"Mixed\".',\n",
       " 'The cuisine type of this recipe is not specified based on the ingredients listed.',\n",
       " 'Venezuelan.',\n",
       " 'The cuisine type of the recipe is \"Salad\".',\n",
       " 'Scottish',\n",
       " 'Bolivian.',\n",
       " 'Mushroom',\n",
       " 'Beverage',\n",
       " 'Cuisine: Colombian\\nPreparation: Boil',\n",
       " 'Carrots',\n",
       " 'Chili',\n",
       " 'The cuisine type of this recipe is international.',\n",
       " 'Vietnamese',\n",
       " 'Middle Eastern',\n",
       " 'South African.',\n",
       " 'Seasoning',\n",
       " 'Rwandan',\n",
       " 'Nigerian',\n",
       " 'Venezuelan/Colombian',\n",
       " 'Gallo Pinto is a dish from Costa Rica and Nicaragua. It is typically prepared for breakfast.',\n",
       " 'Albanian',\n",
       " 'Grilled',\n",
       " 'Argentina',\n",
       " 'Spicy Roasted Chickpeas - [Cuisine: Snack]',\n",
       " 'Can you please provide the name of the recipe?',\n",
       " 'Pakistani',\n",
       " 'Latinx',\n",
       " 'The cuisine type of the recipe is \"n/a\" as specified in the origin.',\n",
       " 'Unknown',\n",
       " 'Cuisine: Miscellaneous',\n",
       " 'No cuisine type.',\n",
       " 'Baked Salmon with Asparagus is a recipe of the cuisine type: Seafood.',\n",
       " 'Refreshing',\n",
       " 'The cuisine type of this recipe is not specified with the given information.',\n",
       " 'Israeli.',\n",
       " 'The cuisine type of the given recipe is \"Soup\".',\n",
       " 'Hungarian',\n",
       " 'English',\n",
       " 'Vegan',\n",
       " 'Ecuadorian',\n",
       " 'Bolivian',\n",
       " 'Brazilian',\n",
       " 'fusion',\n",
       " 'Chia Seed Pudding',\n",
       " 'Bread',\n",
       " 'The cuisine type of the recipe is: \\nMediterranean',\n",
       " 'The cuisine type of the recipe is \"salad.\"',\n",
       " 'Dairy-free',\n",
       " 'Yogurt parfait with granola',\n",
       " 'The cuisine type of the recipe is: \\n\\nBreakfast.',\n",
       " 'Iranian',\n",
       " 'Pastry',\n",
       " 'Spanish',\n",
       " 'Afghan',\n",
       " 'Mongolian',\n",
       " 'Lebanese',\n",
       " 'roast',\n",
       " 'Frozen Yogurt',\n",
       " 'The cuisine type of the recipe is \"Mediterranean.\"',\n",
       " 'The cuisine type of this recipe is \"American.\"',\n",
       " 'indian',\n",
       " 'Salad',\n",
       " 'Caribbean',\n",
       " 'El Salvadorian',\n",
       " 'Cuisine: Venezuelan\\nPreparation: Blend',\n",
       " 'Cajun',\n",
       " 'Mediterannean',\n",
       " 'This recipe is of the cuisine type: \"Mediterranean\"',\n",
       " 'Macaroni and cheese',\n",
       " 'Cuisine: None',\n",
       " 'Cuisine: -\\n  ',\n",
       " 'american',\n",
       " 'Scandinavian',\n",
       " 'Spinach and Onion',\n",
       " 'Middle-Eastern',\n",
       " 'Avocado Toast',\n",
       " 'The cuisine type of the recipe is \"Breakfast\"',\n",
       " 'Russian',\n",
       " 'The cuisine type of this recipe is \"soup.\"',\n",
       " 'North African',\n",
       " 'International',\n",
       " 'Western',\n",
       " 'The cuisine type for Cranberry Pistachio Energy Balls would be \"Healthy.\"',\n",
       " 'Dessert',\n",
       " 'This recipe is of the \"Chia Seed Pudding\" for main cuisine type.',\n",
       " 'The cuisine type of the recipe is Moroccan.',\n",
       " 'Latin',\n",
       " 'Filipino',\n",
       " 'The cuisine type of this recipe is vegan.',\n",
       " 'Canadian',\n",
       " 'Lemon',\n",
       " 'The cuisine type of the recipe is Costa Rican.',\n",
       " 'Honduran.',\n",
       " 'Danish',\n",
       " 'Japanese',\n",
       " 'Mexican.',\n",
       " 'Snack',\n",
       " 'Jamaican',\n",
       " 'Spicy',\n",
       " 'Polish',\n",
       " 'Cuisine: Hainanese\\n\\nPreparation keywords:\\nBoil, steam, roast, slice, season, garnish, mince',\n",
       " 'Venezuelan',\n",
       " 'This recipe is indicating \"Grilled\" cuisine.',\n",
       " 'Mexican',\n",
       " 'Unspecified',\n",
       " 'The cuisine type of this recipe is \"Soup.\"',\n",
       " 'Quiche.',\n",
       " 'Baked Cauliflower Bites is a recipe with the cuisine type \"American.\"',\n",
       " 'South African',\n",
       " 'The cuisine type of this recipe is \"American\".',\n",
       " 'The cuisine type for this recipe is \"unknown\".',\n",
       " 'German',\n",
       " 'Banana bread',\n",
       " 'Andean',\n",
       " 'Eurasian',\n",
       " 'Norwegian',\n",
       " 'Chinese',\n",
       " 'spicy',\n",
       " 'Honduran',\n",
       " 'Generic',\n",
       " 'Baked salmon with lemon and dill: Cuisine type - \"European\"',\n",
       " 'breakfast',\n",
       " 'Greek.',\n",
       " 'Italian',\n",
       " 'The cuisine type of this recipe is Moroccan.',\n",
       " 'Seafood',\n",
       " 'The cuisine type of this recipe is \"baking\".',\n",
       " 'Uruguayan',\n",
       " 'Preparation: Grilling',\n",
       " 'Plant-Based',\n",
       " 'Traditional',\n",
       " 'The cuisine type of this recipe is not indicated.',\n",
       " 'This recipe does not have enough information to determine the cuisine type.',\n",
       " 'Argentinian',\n",
       " 'Sweet',\n",
       " 'This recipe is of the Cuisine Type: Gingerbread',\n",
       " 'Sandwich',\n",
       " 'veggie',\n",
       " 'Soups',\n",
       " 'Paleo',\n",
       " 'Australian',\n",
       " 'Cheese',\n",
       " 'Custard',\n",
       " 'Italian.',\n",
       " 'Indonesian',\n",
       " 'Creole',\n",
       " 'The cuisine type for the recipe \"Ceviche de Camarón\" is Guatemalan.',\n",
       " 'Soup',\n",
       " 'Korean',\n",
       " 'The cuisine type of the given recipe is \"fusion\".',\n",
       " 'This recipe can be classified as \"Healthy\" cuisine.',\n",
       " 'seafood',\n",
       " 'Uncertain.',\n",
       " 'Indian',\n",
       " 'Ceviche (Peruvian)\\nCuisine: Peruvian\\nIngredients: Fresh fish or seafood, lime juice, onions, peppers, cilantro, salt, pepper\\nPreparation: Marinate',\n",
       " 'Baking',\n",
       " 'Vegetarian.',\n",
       " 'French',\n",
       " 'Vegetarian',\n",
       " 'Cabbage Soup: Cabbage soup recipe is most commonly associated with the cuisine type \"European\".',\n",
       " 'Sorry, I need more information to determine the cuisine type. Could you provide more details about the preparation method or any specific ingredients?',\n",
       " 'The cuisine type is Indian.',\n",
       " 'Singaporean',\n",
       " 'Maltese.',\n",
       " 'smoothie',\n",
       " 'The cuisine type of the recipe is \"American\".',\n",
       " 'Breakfast',\n",
       " 'The cuisine type for the recipe \"Quinoa Stuffed Cabbage Rolls\" would be \"International\".',\n",
       " 'chocolate',\n",
       " 'Southwest',\n",
       " 'Chilean',\n",
       " 'Nicaraguan',\n",
       " 'Finnish',\n",
       " 'Peruvian',\n",
       " 'Indicate the cuisine type: ? \\n\\nAnswer: None ',\n",
       " 'The cuisine type of this recipe is **Asian**.',\n",
       " 'The cuisine type of this recipe is \"Indian.\"',\n",
       " 'Omelette',\n",
       " 'Persian',\n",
       " 'Protein',\n",
       " 'Costa Rican',\n",
       " 'Algerian',\n",
       " 'Irish.',\n",
       " 'Belgian',\n",
       " 'Sichuan',\n",
       " 'The cuisine type of this recipe is Middle Eastern.',\n",
       " 'lemonade',\n",
       " 'Syrian',\n",
       " 'Swiss',\n",
       " 'The cuisine type of the recipe is: **Vegan**',\n",
       " 'Southwestern',\n",
       " 'Creamy',\n",
       " 'The cuisine type of this recipe is: Stir-Fry',\n",
       " 'The cuisine type of the recipe is: \\n\\nAmerican',\n",
       " 'Cook',\n",
       " 'Iraqi',\n",
       " 'The cuisine type of this recipe is \"Mediterranean.\"',\n",
       " 'Sri Lankan',\n",
       " 'Healthy',\n",
       " 'Cold Cucumber Soup: Cuisine Type: Cold',\n",
       " 'Swedish',\n",
       " 'Steaming',\n",
       " 'Argentinean.',\n",
       " 'Mediterranean.',\n",
       " 'American',\n",
       " 'Brunch',\n",
       " 'Haitian',\n",
       " 'bread',\n",
       " 'Moroccan.',\n",
       " 'The cuisine type of the recipe is \"Israeli\".',\n",
       " 'casserole',\n",
       " 'American.',\n",
       " 'Jewish',\n",
       " 'Burger',\n",
       " 'Guatemalan.',\n",
       " 'Thai',\n",
       " 'salad',\n",
       " 'Dessert.',\n",
       " 'VEGAN',\n",
       " 'Plant-based',\n",
       " 'The indicated cuisine type of the recipe is: \"Basic\"',\n",
       " 'Country']"
      ]
     },
     "execution_count": 87,
     "metadata": {},
     "output_type": "execute_result"
    }
   ],
   "source": [
    "second_check"
   ]
  },
  {
   "cell_type": "code",
   "execution_count": 84,
   "metadata": {},
   "outputs": [
    {
     "data": {
      "text/plain": [
       "['The cuisine type of this recipe is \"fusion.\"',\n",
       " 'Fried Plantains.',\n",
       " 'Mocktail',\n",
       " 'Tex-Mex',\n",
       " 'Bangladeshi',\n",
       " 'The cuisine type of this recipe is: Indian.',\n",
       " 'Baking.',\n",
       " 'The cuisine type of this recipe is Asian.',\n",
       " 'The cuisine type of the recipe \"Spicy Lentil Soup\" is \"Global.\"',\n",
       " 'The cuisine type of the recipe is \"vegetarian.\"',\n",
       " 'The cuisine type of the recipe is \"vegetarian\"',\n",
       " 'No specific cuisine type indicated.',\n",
       " 'Argentinean',\n",
       " 'The cuisine type of the Lentil and Vegetable Stew recipe is \"vegetarian\"',\n",
       " 'Biscuits',\n",
       " 'Quiche',\n",
       " 'vegetarian',\n",
       " 'donut',\n",
       " 'Steamed',\n",
       " 'The cuisine type of the \"Veggie and Hummus Wrap\" recipe is \"Vegetarian\"',\n",
       " 'Malaysian',\n",
       " 'Brazilian.',\n",
       " 'Unclear',\n",
       " 'Parfait',\n",
       " 'Paraguayan Chipa - Paraguayan',\n",
       " 'This recipe does not specify a cuisine type.',\n",
       " 'Tropical',\n",
       " 'Fritters: Vegetable',\n",
       " 'Cuisine type: Contemporary',\n",
       " 'Israeli',\n",
       " 'The cuisine type for this recipe is \"Mediterranean.\"',\n",
       " 'The cuisine type of the recipe is Belgian.',\n",
       " 'Irish',\n",
       " 'Argentine',\n",
       " 'Gluten: Gluten\\nCuisine: Undefined',\n",
       " 'Turkish',\n",
       " 'Hawaiian',\n",
       " 'Comfort',\n",
       " 'The cuisine type of this recipe is \"seafood.\"',\n",
       " 'The cuisine type of this recipe is \"fusion\".',\n",
       " 'chili',\n",
       " 'Teriyaki',\n",
       " 'Tunisian',\n",
       " 'Smoothie.',\n",
       " 'dessert',\n",
       " 'Smoked Salmon Bagels',\n",
       " 'The cuisine type of this recipe is \"Tex-Mex\"',\n",
       " 'vegan',\n",
       " 'Carrot Soup: Cuisine type is **Vegetarian**.',\n",
       " 'Spiced Roasted Almonds - Middle Eastern',\n",
       " 'Cuisine Type: El Salvadoran\\nPreparation: Assemble',\n",
       " 'Bilingual',\n",
       " 'Not enough information.',\n",
       " 'The cuisine type of this recipe is likely \"American\"',\n",
       " 'The cuisine type of this recipe is not specified.',\n",
       " 'Fried Plantains',\n",
       " 'The cuisine type of the Veggie Curry recipe is: Indian.',\n",
       " 'The cuisine type of the recipe is \"American.\"',\n",
       " 'Middle Eastern.',\n",
       " 'Chicken',\n",
       " 'Assorted mini muffins (blueberry, chocolate chip, and banana) is of the cuisine type: Assorted.',\n",
       " 'Drink',\n",
       " 'The cuisine type of this recipe is \"Asian.\"',\n",
       " 'Roasted Brussels Sprouts: Side Dish',\n",
       " 'Greek',\n",
       " 'Cocktail',\n",
       " 'Detox',\n",
       " 'Cuisine type: Chilean\\nPreparation: Stew',\n",
       " 'Ethiopian',\n",
       " 'Snack.',\n",
       " 'Guatemalan',\n",
       " 'Dutch',\n",
       " 'The cuisine type of this recipe is French.',\n",
       " 'Paraguayan',\n",
       " 'The cuisine type for this recipe would be Tex-Mex.',\n",
       " 'Appetizer',\n",
       " 'Indonesian.',\n",
       " 'Southern',\n",
       " 'Gluten-free',\n",
       " 'The cuisine type of this recipe is: Contemporary.',\n",
       " 'Mujadara is typically Middle Eastern cuisine.',\n",
       " 'The cuisine type of the recipe is \"American\"',\n",
       " 'Peruvian.',\n",
       " 'Southwest.',\n",
       " 'Veggie Egg Muffins - Veggie',\n",
       " 'cuisine: Brazilian\\npreparation: marinade, grill, toast',\n",
       " 'The cuisine type of this recipe is not clear from the given ingredients.',\n",
       " 'Moroccan',\n",
       " 'The cuisine type of this recipe is \"Vegetarian\".',\n",
       " 'quiche',\n",
       " 'Potato salad',\n",
       " 'Asian',\n",
       " 'Stir-fried',\n",
       " 'Bakery',\n",
       " 'Zimbabwean',\n",
       " 'The cuisine type of this recipe is Indian.',\n",
       " 'Szechuan',\n",
       " 'appetizer',\n",
       " 'Asian.',\n",
       " 'quiches',\n",
       " 'No - Granola',\n",
       " 'Latin-American',\n",
       " 'Colombian',\n",
       " 'This recipe is categorized as \"American\".',\n",
       " 'The cuisine type of this recipe is: None (generic)',\n",
       " 'Fusion',\n",
       " 'The cuisine type of this recipe is \"Italian.\"',\n",
       " 'European',\n",
       " 'This recipe is for Cinnamon Rolls.',\n",
       " 'Avocado toast',\n",
       " 'Chinese.',\n",
       " 'Buffalo',\n",
       " 'Hungarian.',\n",
       " 'Cuban',\n",
       " 'Steam',\n",
       " 'The cuisine type of the recipe is: French.',\n",
       " 'The cuisine type of the recipe is \"Italian\".',\n",
       " 'Unknown.',\n",
       " 'apple',\n",
       " 'The cuisine type of the recipe is \"Vegetarian\".',\n",
       " 'Fruit',\n",
       " 'Vegan.',\n",
       " 'Arabic',\n",
       " 'Brussels Sprouts\\nRoasted',\n",
       " 'Christmas',\n",
       " 'Chocolate.',\n",
       " 'The cuisine type of this recipe could be considered as \"American\".',\n",
       " 'Mixed',\n",
       " 'Pumpkin',\n",
       " 'Smoked Trout Recipe',\n",
       " 'Smoothie',\n",
       " 'brunch',\n",
       " 'Egyptian',\n",
       " 'Chocolate',\n",
       " 'British',\n",
       " 'Mediterranean',\n",
       " 'Salvadoran',\n",
       " 'The cuisine type of the recipe \"Quinoa Stuffed Zucchini\" would be considered \"healthy\" or \"vegetarian\".',\n",
       " 'Frying',\n",
       " 'The cuisine type of this recipe is Japanese.',\n",
       " 'Breakfast.',\n",
       " 'Appetizer.',\n",
       " 'Turkish.',\n",
       " 'Oat Bars - CUESINE: \\nSnacks',\n",
       " 'Barbecue',\n",
       " 'Panamanian',\n",
       " 'Salvadoran. Fried.',\n",
       " 'Herbal',\n",
       " 'Cuisine: -\\nName: Mini Bagel Chips with Smoked Salmon \\nIngredients: mini bagels, smoked salmon, cream cheese, fresh dill, lemon zest',\n",
       " 'Smoothies',\n",
       " 'Sicilian',\n",
       " 'Preserving',\n",
       " 'hamburger',\n",
       " 'The cuisine type of this recipe is not specified in the given information.',\n",
       " 'Ukrainian',\n",
       " 'The cuisine type of this recipe is \"Mixed\".',\n",
       " 'The cuisine type of this recipe is not specified based on the ingredients listed.',\n",
       " 'Venezuelan.',\n",
       " 'The cuisine type of the recipe is \"Salad\".',\n",
       " 'Scottish',\n",
       " 'Bolivian.',\n",
       " 'Mushroom',\n",
       " 'Beverage',\n",
       " 'Cuisine: Colombian\\nPreparation: Boil',\n",
       " 'Carrots',\n",
       " 'Chili',\n",
       " 'The cuisine type of this recipe is international.',\n",
       " 'Vietnamese',\n",
       " 'Middle Eastern',\n",
       " 'South African.',\n",
       " 'Seasoning',\n",
       " 'Rwandan',\n",
       " 'Nigerian',\n",
       " 'Venezuelan/Colombian',\n",
       " 'Gallo Pinto is a dish from Costa Rica and Nicaragua. It is typically prepared for breakfast.',\n",
       " 'Albanian',\n",
       " 'Grilled',\n",
       " 'Argentina',\n",
       " 'Spicy Roasted Chickpeas - [Cuisine: Snack]',\n",
       " 'Can you please provide the name of the recipe?',\n",
       " 'Pakistani',\n",
       " 'Latinx',\n",
       " 'The cuisine type of the recipe is \"n/a\" as specified in the origin.',\n",
       " 'Unknown',\n",
       " 'Cuisine: Miscellaneous',\n",
       " 'No cuisine type.',\n",
       " 'Baked Salmon with Asparagus is a recipe of the cuisine type: Seafood.',\n",
       " 'Refreshing',\n",
       " 'The cuisine type of this recipe is not specified with the given information.',\n",
       " 'Israeli.',\n",
       " 'The cuisine type of the given recipe is \"Soup\".',\n",
       " 'Hungarian',\n",
       " 'English',\n",
       " 'Vegan',\n",
       " 'Ecuadorian',\n",
       " 'Bolivian',\n",
       " 'Brazilian',\n",
       " 'fusion',\n",
       " 'Chia Seed Pudding',\n",
       " 'Bread',\n",
       " 'The cuisine type of the recipe is: \\nMediterranean',\n",
       " 'The cuisine type of the recipe is \"salad.\"',\n",
       " 'Dairy-free',\n",
       " 'Yogurt parfait with granola',\n",
       " 'The cuisine type of the recipe is: \\n\\nBreakfast.',\n",
       " 'Iranian',\n",
       " 'Pastry',\n",
       " 'Spanish',\n",
       " 'Afghan',\n",
       " 'Mongolian',\n",
       " 'Lebanese',\n",
       " 'roast',\n",
       " 'Frozen Yogurt',\n",
       " 'The cuisine type of the recipe is \"Mediterranean.\"',\n",
       " 'The cuisine type of this recipe is \"American.\"',\n",
       " 'indian',\n",
       " 'Salad',\n",
       " 'Caribbean',\n",
       " 'El Salvadorian',\n",
       " 'Cuisine: Venezuelan\\nPreparation: Blend',\n",
       " 'Cajun',\n",
       " 'Mediterannean',\n",
       " 'This recipe is of the cuisine type: \"Mediterranean\"',\n",
       " 'Macaroni and cheese',\n",
       " 'Cuisine: None',\n",
       " 'Cuisine: -\\n  ',\n",
       " 'american',\n",
       " 'Scandinavian',\n",
       " 'Spinach and Onion',\n",
       " 'Middle-Eastern',\n",
       " 'Avocado Toast',\n",
       " 'The cuisine type of the recipe is \"Breakfast\"',\n",
       " 'Russian',\n",
       " 'The cuisine type of this recipe is \"soup.\"',\n",
       " 'North African',\n",
       " 'International',\n",
       " 'Western',\n",
       " 'The cuisine type for Cranberry Pistachio Energy Balls would be \"Healthy.\"',\n",
       " 'Dessert',\n",
       " 'This recipe is of the \"Chia Seed Pudding\" for main cuisine type.',\n",
       " 'The cuisine type of the recipe is Moroccan.',\n",
       " 'Latin',\n",
       " 'Filipino',\n",
       " 'The cuisine type of this recipe is vegan.',\n",
       " 'Canadian',\n",
       " 'Lemon',\n",
       " 'The cuisine type of the recipe is Costa Rican.',\n",
       " 'Honduran.',\n",
       " 'Danish',\n",
       " 'Japanese',\n",
       " 'Mexican.',\n",
       " 'Snack',\n",
       " 'Jamaican',\n",
       " 'Spicy',\n",
       " 'Polish',\n",
       " 'Cuisine: Hainanese\\n\\nPreparation keywords:\\nBoil, steam, roast, slice, season, garnish, mince',\n",
       " 'Venezuelan',\n",
       " 'This recipe is indicating \"Grilled\" cuisine.',\n",
       " 'Mexican',\n",
       " 'Unspecified',\n",
       " 'The cuisine type of this recipe is \"Soup.\"',\n",
       " 'Quiche.',\n",
       " 'Baked Cauliflower Bites is a recipe with the cuisine type \"American.\"',\n",
       " 'South African',\n",
       " 'The cuisine type of this recipe is \"American\".',\n",
       " 'The cuisine type for this recipe is \"unknown\".',\n",
       " 'German',\n",
       " 'Banana bread',\n",
       " 'Andean',\n",
       " 'Eurasian',\n",
       " 'Norwegian',\n",
       " 'Chinese',\n",
       " 'spicy',\n",
       " 'Honduran',\n",
       " 'Generic',\n",
       " 'Baked salmon with lemon and dill: Cuisine type - \"European\"',\n",
       " 'breakfast',\n",
       " 'Greek.',\n",
       " 'Italian',\n",
       " 'The cuisine type of this recipe is Moroccan.',\n",
       " 'Seafood',\n",
       " 'The cuisine type of this recipe is \"baking\".',\n",
       " 'Uruguayan',\n",
       " 'Preparation: Grilling',\n",
       " 'Plant-Based',\n",
       " 'Traditional',\n",
       " 'The cuisine type of this recipe is not indicated.',\n",
       " 'This recipe does not have enough information to determine the cuisine type.',\n",
       " 'Argentinian',\n",
       " 'Sweet',\n",
       " 'This recipe is of the Cuisine Type: Gingerbread',\n",
       " 'Sandwich',\n",
       " 'veggie',\n",
       " 'Soups',\n",
       " 'Paleo',\n",
       " 'Australian',\n",
       " 'Cheese',\n",
       " 'Custard',\n",
       " 'Italian.',\n",
       " 'Indonesian',\n",
       " 'Creole',\n",
       " 'The cuisine type for the recipe \"Ceviche de Camarón\" is Guatemalan.',\n",
       " 'Korean',\n",
       " 'The cuisine type of the given recipe is \"fusion\".',\n",
       " 'This recipe can be classified as \"Healthy\" cuisine.',\n",
       " 'seafood',\n",
       " 'Uncertain.',\n",
       " 'Indian',\n",
       " 'Ceviche (Peruvian)\\nCuisine: Peruvian\\nIngredients: Fresh fish or seafood, lime juice, onions, peppers, cilantro, salt, pepper\\nPreparation: Marinate',\n",
       " 'Baking',\n",
       " 'Vegetarian.',\n",
       " 'French',\n",
       " 'Vegetarian',\n",
       " 'Cabbage Soup: Cabbage soup recipe is most commonly associated with the cuisine type \"European\".',\n",
       " 'Sorry, I need more information to determine the cuisine type. Could you provide more details about the preparation method or any specific ingredients?',\n",
       " 'The cuisine type is Indian.',\n",
       " 'Singaporean',\n",
       " 'Maltese.',\n",
       " 'smoothie',\n",
       " 'The cuisine type of the recipe is \"American\".',\n",
       " 'Breakfast',\n",
       " 'The cuisine type for the recipe \"Quinoa Stuffed Cabbage Rolls\" would be \"International\".',\n",
       " 'chocolate',\n",
       " 'Southwest',\n",
       " 'Chilean',\n",
       " 'Nicaraguan',\n",
       " 'Finnish',\n",
       " 'Peruvian',\n",
       " 'Indicate the cuisine type: ? \\n\\nAnswer: None ',\n",
       " 'The cuisine type of this recipe is **Asian**.',\n",
       " 'The cuisine type of this recipe is \"Indian.\"',\n",
       " 'Omelette',\n",
       " 'Persian',\n",
       " 'Protein',\n",
       " 'Costa Rican',\n",
       " 'Algerian',\n",
       " 'Irish.',\n",
       " 'Belgian',\n",
       " 'Sichuan',\n",
       " 'The cuisine type of this recipe is Middle Eastern.',\n",
       " 'lemonade',\n",
       " 'Syrian',\n",
       " 'Swiss',\n",
       " 'The cuisine type of the recipe is: **Vegan**',\n",
       " 'Southwestern',\n",
       " 'Creamy',\n",
       " 'The cuisine type of this recipe is: Stir-Fry',\n",
       " 'The cuisine type of the recipe is: \\n\\nAmerican',\n",
       " 'Iraqi',\n",
       " 'The cuisine type of this recipe is \"Mediterranean.\"',\n",
       " 'Sri Lankan',\n",
       " 'Healthy',\n",
       " 'Cold Cucumber Soup: Cuisine Type: Cold',\n",
       " 'Swedish',\n",
       " 'Steaming',\n",
       " 'Argentinean.',\n",
       " 'Mediterranean.',\n",
       " 'American',\n",
       " 'Brunch',\n",
       " 'Haitian',\n",
       " 'bread',\n",
       " 'Moroccan.',\n",
       " 'The cuisine type of the recipe is \"Israeli\".',\n",
       " 'casserole',\n",
       " 'American.',\n",
       " 'Jewish',\n",
       " 'Burger',\n",
       " 'Guatemalan.',\n",
       " 'salad',\n",
       " 'Dessert.',\n",
       " 'VEGAN',\n",
       " 'Plant-based',\n",
       " 'The indicated cuisine type of the recipe is: \"Basic\"',\n",
       " 'Country']"
      ]
     },
     "execution_count": 84,
     "metadata": {},
     "output_type": "execute_result"
    }
   ],
   "source": [
    "second_check"
   ]
  },
  {
   "cell_type": "code",
   "execution_count": 74,
   "metadata": {},
   "outputs": [
    {
     "data": {
      "text/plain": [
       "{'Afghan',\n",
       " 'Albanian',\n",
       " 'Algerian',\n",
       " 'American',\n",
       " 'American.',\n",
       " 'Andean',\n",
       " 'Appetizer',\n",
       " 'Appetizer.',\n",
       " 'Arabic',\n",
       " 'Argentina',\n",
       " 'Argentine',\n",
       " 'Argentinean',\n",
       " 'Argentinean.',\n",
       " 'Argentinian',\n",
       " 'Asian',\n",
       " 'Asian.',\n",
       " 'Assorted mini muffins (blueberry, chocolate chip, and banana) is of the cuisine type: Assorted.',\n",
       " 'Australian',\n",
       " 'Avocado Toast',\n",
       " 'Avocado toast',\n",
       " 'BBQ',\n",
       " 'Baked Cauliflower Bites is a recipe with the cuisine type \"American.\"',\n",
       " 'Baked Salmon with Asparagus is a recipe of the cuisine type: Seafood.',\n",
       " 'Baked salmon with lemon and dill: Cuisine type - \"European\"',\n",
       " 'Bakery',\n",
       " 'Baking',\n",
       " 'Baking.',\n",
       " 'Banana bread',\n",
       " 'Bangladeshi',\n",
       " 'Barbecue',\n",
       " 'Belgian',\n",
       " 'Beverage',\n",
       " 'Bilingual',\n",
       " 'Biscuits',\n",
       " 'Bolivian',\n",
       " 'Bolivian.',\n",
       " 'Brazilian',\n",
       " 'Brazilian.',\n",
       " 'Bread',\n",
       " 'Breakfast',\n",
       " 'Breakfast.',\n",
       " 'British',\n",
       " 'Brunch',\n",
       " 'Brussels Sprouts\\nRoasted',\n",
       " 'Buffalo',\n",
       " 'Burger',\n",
       " 'Cabbage Soup: Cabbage soup recipe is most commonly associated with the cuisine type \"European\".',\n",
       " 'Cajun',\n",
       " 'Can you please provide the name of the recipe?',\n",
       " 'Canadian',\n",
       " 'Caribbean',\n",
       " 'Carrot Soup: Cuisine type is **Vegetarian**.',\n",
       " 'Carrots',\n",
       " 'Ceviche (Peruvian)\\nCuisine: Peruvian\\nIngredients: Fresh fish or seafood, lime juice, onions, peppers, cilantro, salt, pepper\\nPreparation: Marinate',\n",
       " 'Cheese',\n",
       " 'Chia Seed Pudding',\n",
       " 'Chicken',\n",
       " 'Chilean',\n",
       " 'Chili',\n",
       " 'Chinese',\n",
       " 'Chinese.',\n",
       " 'Chocolate',\n",
       " 'Chocolate.',\n",
       " 'Christmas',\n",
       " 'Cocktail',\n",
       " 'Cold Cucumber Soup: Cuisine Type: Cold',\n",
       " 'Colombian',\n",
       " 'Comfort',\n",
       " 'Cook',\n",
       " 'Costa Rican',\n",
       " 'Country',\n",
       " 'Creamy',\n",
       " 'Creole',\n",
       " 'Cuban',\n",
       " 'Cuisine Type: El Salvadoran\\nPreparation: Assemble',\n",
       " 'Cuisine type: Chilean\\nPreparation: Stew',\n",
       " 'Cuisine type: Contemporary',\n",
       " 'Cuisine: -\\n  ',\n",
       " 'Cuisine: -\\nName: Mini Bagel Chips with Smoked Salmon \\nIngredients: mini bagels, smoked salmon, cream cheese, fresh dill, lemon zest',\n",
       " 'Cuisine: Colombian\\nPreparation: Boil',\n",
       " 'Cuisine: Hainanese\\n\\nPreparation keywords:\\nBoil, steam, roast, slice, season, garnish, mince',\n",
       " 'Cuisine: Miscellaneous',\n",
       " 'Cuisine: None',\n",
       " 'Cuisine: Venezuelan\\nPreparation: Blend',\n",
       " 'Custard',\n",
       " 'Dairy-free',\n",
       " 'Danish',\n",
       " 'Dessert',\n",
       " 'Dessert.',\n",
       " 'Detox',\n",
       " 'Drink',\n",
       " 'Dutch',\n",
       " 'Ecuadorian',\n",
       " 'Egyptian',\n",
       " 'El Salvadorian',\n",
       " 'English',\n",
       " 'Ethiopian',\n",
       " 'Eurasian',\n",
       " 'European',\n",
       " 'Filipino',\n",
       " 'Finnish',\n",
       " 'French',\n",
       " 'Fried Plantains',\n",
       " 'Fried Plantains.',\n",
       " 'Fritters: Vegetable',\n",
       " 'Frozen Yogurt',\n",
       " 'Fruit',\n",
       " 'Frying',\n",
       " 'Fusion',\n",
       " 'Gallo Pinto is a dish from Costa Rica and Nicaragua. It is typically prepared for breakfast.',\n",
       " 'Generic',\n",
       " 'German',\n",
       " 'Gluten-free',\n",
       " 'Gluten: Gluten\\nCuisine: Undefined',\n",
       " 'Greek',\n",
       " 'Greek.',\n",
       " 'Grilled',\n",
       " 'Guatemalan',\n",
       " 'Guatemalan.',\n",
       " 'Haitian',\n",
       " 'Hawaiian',\n",
       " 'Healthy',\n",
       " 'Herbal',\n",
       " 'Honduran',\n",
       " 'Honduran.',\n",
       " 'Hungarian',\n",
       " 'Hungarian.',\n",
       " 'Indian',\n",
       " 'Indicate the cuisine type: ? \\n\\nAnswer: None ',\n",
       " 'Indonesian',\n",
       " 'Indonesian.',\n",
       " 'International',\n",
       " 'Iranian',\n",
       " 'Iraqi',\n",
       " 'Irish',\n",
       " 'Irish.',\n",
       " 'Israeli',\n",
       " 'Israeli.',\n",
       " 'Italian',\n",
       " 'Italian.',\n",
       " 'Jamaican',\n",
       " 'Japanese',\n",
       " 'Jewish',\n",
       " 'Korean',\n",
       " 'Latin',\n",
       " 'Latin-American',\n",
       " 'Latinx',\n",
       " 'Lebanese',\n",
       " 'Lemon',\n",
       " 'Macaroni and cheese',\n",
       " 'Malaysian',\n",
       " 'Maltese.',\n",
       " 'Mediterannean',\n",
       " 'Mediterranean',\n",
       " 'Mediterranean.',\n",
       " 'Mexican',\n",
       " 'Mexican.',\n",
       " 'Middle Eastern',\n",
       " 'Middle Eastern.',\n",
       " 'Middle-Eastern',\n",
       " 'Mixed',\n",
       " 'Mocktail',\n",
       " 'Mongolian',\n",
       " 'Moroccan',\n",
       " 'Moroccan.',\n",
       " 'Mujadara is typically Middle Eastern cuisine.',\n",
       " 'Mushroom',\n",
       " 'Nicaraguan',\n",
       " 'Nigerian',\n",
       " 'No - Granola',\n",
       " 'No cuisine type.',\n",
       " 'No specific cuisine type indicated.',\n",
       " 'North African',\n",
       " 'Norwegian',\n",
       " 'Not enough information.',\n",
       " 'Oat Bars - CUESINE: \\nSnacks',\n",
       " 'Omelette',\n",
       " 'Pakistani',\n",
       " 'Paleo',\n",
       " 'Panamanian',\n",
       " 'Paraguayan',\n",
       " 'Paraguayan Chipa - Paraguayan',\n",
       " 'Parfait',\n",
       " 'Pastry',\n",
       " 'Persian',\n",
       " 'Peruvian',\n",
       " 'Peruvian.',\n",
       " 'Plant-Based',\n",
       " 'Plant-based',\n",
       " 'Polish',\n",
       " 'Potato salad',\n",
       " 'Preparation: Grilling',\n",
       " 'Preserving',\n",
       " 'Protein',\n",
       " 'Pumpkin',\n",
       " 'Quiche',\n",
       " 'Quiche.',\n",
       " 'Raw',\n",
       " 'Refreshing',\n",
       " 'Roasted Brussels Sprouts: Side Dish',\n",
       " 'Russian',\n",
       " 'Rwandan',\n",
       " 'Salad',\n",
       " 'Salvadoran',\n",
       " 'Salvadoran. Fried.',\n",
       " 'Sandwich',\n",
       " 'Scandinavian',\n",
       " 'Scottish',\n",
       " 'Seafood',\n",
       " 'Seasoning',\n",
       " 'Sichuan',\n",
       " 'Sicilian',\n",
       " 'Singaporean',\n",
       " 'Smoked Salmon Bagels',\n",
       " 'Smoked Trout Recipe',\n",
       " 'Smoothie',\n",
       " 'Smoothie.',\n",
       " 'Smoothies',\n",
       " 'Snack',\n",
       " 'Snack.',\n",
       " 'Sorry, I need more information to determine the cuisine type. Could you provide more details about the preparation method or any specific ingredients?',\n",
       " 'Soup',\n",
       " 'Soups',\n",
       " 'South African',\n",
       " 'South African.',\n",
       " 'Southern',\n",
       " 'Southwest',\n",
       " 'Southwest.',\n",
       " 'Southwestern',\n",
       " 'Spanish',\n",
       " 'Spiced Roasted Almonds - Middle Eastern',\n",
       " 'Spicy',\n",
       " 'Spicy Roasted Chickpeas - [Cuisine: Snack]',\n",
       " 'Spinach and Onion',\n",
       " 'Sri Lankan',\n",
       " 'Steam',\n",
       " 'Steamed',\n",
       " 'Steaming',\n",
       " 'Stir-fried',\n",
       " 'Swedish',\n",
       " 'Sweet',\n",
       " 'Swiss',\n",
       " 'Syrian',\n",
       " 'Szechuan',\n",
       " 'Teriyaki',\n",
       " 'Tex-Mex',\n",
       " 'Thai',\n",
       " 'The cuisine type for Cranberry Pistachio Energy Balls would be \"Healthy.\"',\n",
       " 'The cuisine type for the recipe \"Ceviche de Camarón\" is Guatemalan.',\n",
       " 'The cuisine type for the recipe \"Quinoa Stuffed Cabbage Rolls\" would be \"International\".',\n",
       " 'The cuisine type for this recipe is \"Mediterranean.\"',\n",
       " 'The cuisine type for this recipe is \"unknown\".',\n",
       " 'The cuisine type for this recipe would be Tex-Mex.',\n",
       " 'The cuisine type is Indian.',\n",
       " 'The cuisine type of the \"Veggie and Hummus Wrap\" recipe is \"Vegetarian\"',\n",
       " 'The cuisine type of the Lentil and Vegetable Stew recipe is \"vegetarian\"',\n",
       " 'The cuisine type of the Veggie Curry recipe is: Indian.',\n",
       " 'The cuisine type of the given recipe is \"Soup\".',\n",
       " 'The cuisine type of the given recipe is \"fusion\".',\n",
       " 'The cuisine type of the recipe \"Quinoa Stuffed Zucchini\" would be considered \"healthy\" or \"vegetarian\".',\n",
       " 'The cuisine type of the recipe \"Spicy Lentil Soup\" is \"Global.\"',\n",
       " 'The cuisine type of the recipe is \"American\"',\n",
       " 'The cuisine type of the recipe is \"American\".',\n",
       " 'The cuisine type of the recipe is \"American.\"',\n",
       " 'The cuisine type of the recipe is \"Breakfast\"',\n",
       " 'The cuisine type of the recipe is \"Israeli\".',\n",
       " 'The cuisine type of the recipe is \"Italian\".',\n",
       " 'The cuisine type of the recipe is \"Mediterranean.\"',\n",
       " 'The cuisine type of the recipe is \"Salad\".',\n",
       " 'The cuisine type of the recipe is \"Vegetarian\".',\n",
       " 'The cuisine type of the recipe is \"n/a\" as specified in the origin.',\n",
       " 'The cuisine type of the recipe is \"salad.\"',\n",
       " 'The cuisine type of the recipe is \"vegetarian\"',\n",
       " 'The cuisine type of the recipe is \"vegetarian.\"',\n",
       " 'The cuisine type of the recipe is Belgian.',\n",
       " 'The cuisine type of the recipe is Costa Rican.',\n",
       " 'The cuisine type of the recipe is Moroccan.',\n",
       " 'The cuisine type of the recipe is: \\n\\nAmerican',\n",
       " 'The cuisine type of the recipe is: \\n\\nBreakfast.',\n",
       " 'The cuisine type of the recipe is: \\nMediterranean',\n",
       " 'The cuisine type of the recipe is: **Vegan**',\n",
       " 'The cuisine type of the recipe is: French.',\n",
       " 'The cuisine type of this recipe could be considered as \"American\".',\n",
       " 'The cuisine type of this recipe is \"American\".',\n",
       " 'The cuisine type of this recipe is \"American.\"',\n",
       " 'The cuisine type of this recipe is \"Asian.\"',\n",
       " 'The cuisine type of this recipe is \"Indian.\"',\n",
       " 'The cuisine type of this recipe is \"Italian.\"',\n",
       " 'The cuisine type of this recipe is \"Mediterranean.\"',\n",
       " 'The cuisine type of this recipe is \"Mixed\".',\n",
       " 'The cuisine type of this recipe is \"Soup.\"',\n",
       " 'The cuisine type of this recipe is \"Tex-Mex\"',\n",
       " 'The cuisine type of this recipe is \"Vegetarian\".',\n",
       " 'The cuisine type of this recipe is \"baking\".',\n",
       " 'The cuisine type of this recipe is \"fusion\".',\n",
       " 'The cuisine type of this recipe is \"fusion.\"',\n",
       " 'The cuisine type of this recipe is \"seafood.\"',\n",
       " 'The cuisine type of this recipe is \"soup.\"',\n",
       " 'The cuisine type of this recipe is **Asian**.',\n",
       " 'The cuisine type of this recipe is Asian.',\n",
       " 'The cuisine type of this recipe is French.',\n",
       " 'The cuisine type of this recipe is Indian.',\n",
       " 'The cuisine type of this recipe is Japanese.',\n",
       " 'The cuisine type of this recipe is Middle Eastern.',\n",
       " 'The cuisine type of this recipe is Moroccan.',\n",
       " 'The cuisine type of this recipe is international.',\n",
       " 'The cuisine type of this recipe is likely \"American\"',\n",
       " 'The cuisine type of this recipe is not clear from the given ingredients.',\n",
       " 'The cuisine type of this recipe is not indicated.',\n",
       " 'The cuisine type of this recipe is not specified based on the ingredients listed.',\n",
       " 'The cuisine type of this recipe is not specified in the given information.',\n",
       " 'The cuisine type of this recipe is not specified with the given information.',\n",
       " 'The cuisine type of this recipe is not specified.',\n",
       " 'The cuisine type of this recipe is vegan.',\n",
       " 'The cuisine type of this recipe is: Contemporary.',\n",
       " 'The cuisine type of this recipe is: Indian.',\n",
       " 'The cuisine type of this recipe is: None (generic)',\n",
       " 'The cuisine type of this recipe is: Stir-Fry',\n",
       " 'The indicated cuisine type of the recipe is: \"Basic\"',\n",
       " 'This recipe can be classified as \"Healthy\" cuisine.',\n",
       " 'This recipe does not have enough information to determine the cuisine type.',\n",
       " 'This recipe does not specify a cuisine type.',\n",
       " 'This recipe is categorized as \"American\".',\n",
       " 'This recipe is for Cinnamon Rolls.',\n",
       " 'This recipe is indicating \"Grilled\" cuisine.',\n",
       " 'This recipe is of the \"Chia Seed Pudding\" for main cuisine type.',\n",
       " 'This recipe is of the Cuisine Type: Gingerbread',\n",
       " 'This recipe is of the cuisine type: \"Mediterranean\"',\n",
       " 'Traditional',\n",
       " 'Tropical',\n",
       " 'Tunisian',\n",
       " 'Turkish',\n",
       " 'Turkish.',\n",
       " 'Ukrainian',\n",
       " 'Uncertain.',\n",
       " 'Unclear',\n",
       " 'Unknown',\n",
       " 'Unknown.',\n",
       " 'Unspecified',\n",
       " 'Uruguayan',\n",
       " 'VEGAN',\n",
       " 'Vegan',\n",
       " 'Vegan.',\n",
       " 'Vegetarian',\n",
       " 'Vegetarian.',\n",
       " 'Veggie Egg Muffins - Veggie',\n",
       " 'Venezuelan',\n",
       " 'Venezuelan.',\n",
       " 'Venezuelan/Colombian',\n",
       " 'Vietnamese',\n",
       " 'Western',\n",
       " 'Wrap',\n",
       " 'Yogurt parfait with granola',\n",
       " 'Zimbabwean',\n",
       " 'american',\n",
       " 'appetizer',\n",
       " 'apple',\n",
       " 'bread',\n",
       " 'breakfast',\n",
       " 'brunch',\n",
       " 'casserole',\n",
       " 'chili',\n",
       " 'chocolate',\n",
       " 'cuisine: Brazilian\\npreparation: marinade, grill, toast',\n",
       " 'dessert',\n",
       " 'donut',\n",
       " 'fusion',\n",
       " 'hamburger',\n",
       " 'indian',\n",
       " 'lemonade',\n",
       " 'quiche',\n",
       " 'quiches',\n",
       " 'roast',\n",
       " 'salad',\n",
       " 'seafood',\n",
       " 'smoothie',\n",
       " 'spicy',\n",
       " 'vegan',\n",
       " 'vegetarian',\n",
       " 'veggie'}"
      ]
     },
     "execution_count": 74,
     "metadata": {},
     "output_type": "execute_result"
    }
   ],
   "source": [
    "unique_cuisines"
   ]
  },
  {
   "cell_type": "code",
   "execution_count": null,
   "metadata": {},
   "outputs": [],
   "source": []
  },
  {
   "cell_type": "markdown",
   "metadata": {},
   "source": [
    "#### Fix price "
   ]
  },
  {
   "cell_type": "code",
   "execution_count": 5,
   "metadata": {},
   "outputs": [
    {
     "name": "stdout",
     "output_type": "stream",
     "text": [
      "<class 'pandas.core.series.Series'>\n",
      "Index: 7000 entries, 0 to 6999\n",
      "Series name: price\n",
      "Non-Null Count  Dtype  \n",
      "--------------  -----  \n",
      "6995 non-null   float64\n",
      "dtypes: float64(1)\n",
      "memory usage: 109.4 KB\n"
     ]
    }
   ],
   "source": [
    "df_recipes['price'].info()"
   ]
  },
  {
   "cell_type": "code",
   "execution_count": 30,
   "metadata": {},
   "outputs": [],
   "source": [
    "fixed_prices = df_recipes['price'].apply(lambda x: extract_nutritional_numerical(x))"
   ]
  },
  {
   "cell_type": "code",
   "execution_count": 52,
   "metadata": {},
   "outputs": [
    {
     "name": "stdout",
     "output_type": "stream",
     "text": [
      "To process: 16\n"
     ]
    }
   ],
   "source": [
    "mask = fixed_prices == 2.5\n",
    "print(f\"To process: {sum(mask)}\")"
   ]
  },
  {
   "cell_type": "code",
   "execution_count": 53,
   "metadata": {},
   "outputs": [
    {
     "data": {
      "text/plain": [
       "395     2.5\n",
       "595     2.5\n",
       "663     2.5\n",
       "1095    2.5\n",
       "2322    2.5\n",
       "2967    2.5\n",
       "5688    2.5\n",
       "6555    2.5\n",
       "6735    2.5\n",
       "6818    2.5\n",
       "6839    2.5\n",
       "6858    2.5\n",
       "6870    2.5\n",
       "6930    2.5\n",
       "6993    2.5\n",
       "6996    2.5\n",
       "Name: price, dtype: object"
      ]
     },
     "execution_count": 53,
     "metadata": {},
     "output_type": "execute_result"
    }
   ],
   "source": [
    "df_recipes.loc[mask, 'price']"
   ]
  },
  {
   "cell_type": "code",
   "execution_count": 54,
   "metadata": {},
   "outputs": [],
   "source": [
    "fixed_prices[mask] = 3.0"
   ]
  },
  {
   "cell_type": "code",
   "execution_count": 57,
   "metadata": {},
   "outputs": [
    {
     "data": {
      "text/plain": [
       "price\n",
       "2.0    6334\n",
       "1.0     601\n",
       "3.0      60\n",
       "Name: count, dtype: int64"
      ]
     },
     "execution_count": 57,
     "metadata": {},
     "output_type": "execute_result"
    }
   ],
   "source": [
    "df_recipes['price'].value_counts()"
   ]
  },
  {
   "cell_type": "code",
   "execution_count": 56,
   "metadata": {},
   "outputs": [],
   "source": [
    "df_recipes['price'] = fixed_prices"
   ]
  },
  {
   "cell_type": "markdown",
   "metadata": {},
   "source": [
    "#### Clean titles"
   ]
  },
  {
   "cell_type": "code",
   "execution_count": 22,
   "metadata": {},
   "outputs": [
    {
     "name": "stdout",
     "output_type": "stream",
     "text": [
      "Total recipes with pattern 905 \n"
     ]
    }
   ],
   "source": [
    "mask = df_recipes['title'].str.contains('(', regex=False)\n",
    "print(f\"Total recipes with pattern {sum(mask)} \")"
   ]
  },
  {
   "cell_type": "code",
   "execution_count": 23,
   "metadata": {},
   "outputs": [],
   "source": [
    "df_to_fix = df_recipes.loc[mask, :]"
   ]
  },
  {
   "cell_type": "code",
   "execution_count": 24,
   "metadata": {},
   "outputs": [
    {
     "data": {
      "text/plain": [
       "485                           Aloo Tikki (Potato Patties)\n",
       "521         Vegan Energy Balls (Dates, Nuts, and Coconut)\n",
       "1110                    Vegan Thai Coconut Soup (Tom Kha)\n",
       "1349      Lentil Curry (200 calories/portion, 4 portions)\n",
       "1350    Mediterranean Quinoa Salad (250 calories/porti...\n",
       "                              ...                        \n",
       "6866    Persian Zucchini Stew With Chicken (Khoresh Ka...\n",
       "6881                    Sautéed Tofu (Dau Hu Xao Dau Hao)\n",
       "6899                   (Korean Black Bean Noodles) Recipe\n",
       "6971     Russian Potato Salad Olivier (From South Russia)\n",
       "6976                        Rolled Oats Master Mix (Oamc)\n",
       "Name: title, Length: 905, dtype: object"
      ]
     },
     "execution_count": 24,
     "metadata": {},
     "output_type": "execute_result"
    }
   ],
   "source": [
    "mask_1 = df_to_fix['title']"
   ]
  },
  {
   "cell_type": "code",
   "execution_count": 19,
   "metadata": {},
   "outputs": [
    {
     "name": "stderr",
     "output_type": "stream",
     "text": [
      "/tmp/ipykernel_275380/1177389703.py:1: SettingWithCopyWarning: \n",
      "A value is trying to be set on a copy of a slice from a DataFrame.\n",
      "Try using .loc[row_indexer,col_indexer] = value instead\n",
      "\n",
      "See the caveats in the documentation: https://pandas.pydata.org/pandas-docs/stable/user_guide/indexing.html#returning-a-view-versus-a-copy\n",
      "  df_to_fix['title_fixed'] = df_to_fix['title'].apply(lambda x: x.replace('**', ''))\n"
     ]
    }
   ],
   "source": [
    "df_to_fix['title_fixed'] = df_to_fix['title'].apply(lambda x: x.replace('', ''))"
   ]
  },
  {
   "cell_type": "code",
   "execution_count": 20,
   "metadata": {},
   "outputs": [],
   "source": [
    "df_recipes.loc[mask, 'title'] = df_to_fix['title_fixed']"
   ]
  },
  {
   "cell_type": "code",
   "execution_count": 138,
   "metadata": {},
   "outputs": [],
   "source": [
    "out_path = '/home/victor/Documents/recipe_gpt/output/raw_recipes/df_final_7000_normalized.csv'\n",
    "df_recipes.to_csv(out_path, sep='|', index=True)"
   ]
  }
 ],
 "metadata": {
  "kernelspec": {
   "display_name": "recipe_gpt",
   "language": "python",
   "name": "python3"
  },
  "language_info": {
   "codemirror_mode": {
    "name": "ipython",
    "version": 3
   },
   "file_extension": ".py",
   "mimetype": "text/x-python",
   "name": "python",
   "nbconvert_exporter": "python",
   "pygments_lexer": "ipython3",
   "version": "3.9.19"
  }
 },
 "nbformat": 4,
 "nbformat_minor": 2
}
